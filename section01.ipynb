{
 "cells": [
  {
   "cell_type": "markdown",
   "metadata": {},
   "source": [
    "# 機械学習 第一章\n",
    " "
   ]
  },
  {
   "cell_type": "markdown",
   "metadata": {},
   "source": [
    "### 1.2 学習の種類\n",
    "\n",
    "・教師あり学習 (supervised learning)  \n",
    "(ex) メールスパムフィルタ  \n",
    "\n",
    "・教師なし学習 (unsupervised learning)  \n",
    "・強化学習 　　(reinforcement learning)  \n",
    "環境とのやりとりによって，性能を改善  \n",
    "(ex) チェスゲーム-- 報酬である「勝ち」or 「負け」を定義"
   ]
  },
  {
   "cell_type": "markdown",
   "metadata": {},
   "source": [
    "## 1.8 前処理\n",
    "\n",
    "生のデータが機械学習アルゴリズムの性能を最適化するのに必要な形式で与えられることは滅多にない． \n",
    "→　データの**前処理**が重要\n",
    "\n",
    "・特徴量を[0,1] の範囲に変換  \n",
    "・平均0, 分散1 の標準正規分布に変換  "
   ]
  },
  {
   "cell_type": "markdown",
   "metadata": {
    "collapsed": true
   },
   "source": [
    "抽出された特徴量の中に相関が高いものが存在するかも・・・  \n",
    "→ **次元削減**  \n",
    "→ 冗長なデータは計算量をあげる  \n",
    "\n",
    "汎化性能 (テストデータに関してもよい精度)をあげたい！  \n",
    "→ **ハイパーパラメータ最適化**  \n",
    "ハイパーパラメータの探索による次元爆発 \n"
   ]
  },
  {
   "cell_type": "code",
   "execution_count": null,
   "metadata": {
    "collapsed": true
   },
   "outputs": [],
   "source": []
  }
 ],
 "metadata": {
  "kernelspec": {
   "display_name": "Python 3",
   "language": "python",
   "name": "python3"
  },
  "language_info": {
   "codemirror_mode": {
    "name": "ipython",
    "version": 3
   },
   "file_extension": ".py",
   "mimetype": "text/x-python",
   "name": "python",
   "nbconvert_exporter": "python",
   "pygments_lexer": "ipython3",
   "version": "3.5.1"
  }
 },
 "nbformat": 4,
 "nbformat_minor": 2
}
