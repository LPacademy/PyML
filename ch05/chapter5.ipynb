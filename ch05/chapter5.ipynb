{
 "cells": [
  {
   "cell_type": "code",
   "execution_count": 1,
   "metadata": {
    "collapsed": true
   },
   "outputs": [],
   "source": [
    "from IPython.display import Image\n",
    "%matplotlib inline"
   ]
  },
  {
   "cell_type": "code",
   "execution_count": 2,
   "metadata": {
    "collapsed": true
   },
   "outputs": [],
   "source": [
    "# Added version check for recent scikit-learn 0.18 checks\n",
    "from distutils.version import LooseVersion as Version\n",
    "from sklearn import __version__ as sklearn_version"
   ]
  },
  {
   "cell_type": "markdown",
   "metadata": {
    "deletable": true,
    "editable": true
   },
   "source": [
    "# 第5章 次元削減でデータを圧縮する"
   ]
  },
  {
   "cell_type": "markdown",
   "metadata": {
    "deletable": true,
    "editable": true
   },
   "source": [
    "## 本章で扱う内容\n",
    "- 教師なしデータ圧縮での主成分分析（PCA） \n",
    "- クラスの分離を最大化する教師あり次元削減法としての線形判別分析（LDA）\n",
    "- カーネル主成分分析による非線形次元削減"
   ]
  },
  {
   "cell_type": "markdown",
   "metadata": {
    "deletable": true,
    "editable": true
   },
   "source": [
    "## 5.1 主成分分析による教師なし次元削減\n",
    "---"
   ]
  },
  {
   "cell_type": "markdown",
   "metadata": {
    "deletable": true,
    "editable": true
   },
   "source": [
    "### 特徴選択と特徴抽出の違い\n",
    "- 特徴選択: 元の特徴量は変換されることなくそのままの形で維持される\n",
    "- 特徴抽出: データが新しい特徴空間に変換または射影される"
   ]
  },
  {
   "cell_type": "markdown",
   "metadata": {
    "deletable": true,
    "editable": true
   },
   "source": [
    "### 主成分分析（Principal Component Analysis: PCA）\n",
    "応用：探索的データ解析，信号のノイズ除去，ゲノムデータの解析 \n",
    "\n",
    "- 特徴量どうしの相関関係に基づいてデータからパターンを抽出する\n",
    "- 高次元データにおいて分散が最大となる方向を見つけ出し、元の次元と同じかそれよりも低い次元の新しい部分空間へ射影する\n",
    "- 新しい部分空間の直交軸（主成分）を分散が最大となる方向と見なすことができる\n",
    "- すべての特徴量に等しい重要度を割り当てたい場合は、PCAの前に特徴量を標準化する必要がある\n",
    "\n",
    "<img src=\"./images/05_01.png\">\n",
    "\n",
    "\n",
    "\n",
    "\n",
    "#### 次元削減のためのPCA で行うこと\n",
    "1. *d*次元のデータセットを標準化する\n",
    "2. 標準化したデータセットの共分散行列（covariance matrix）を作成する\n",
    "3. 共分散行列を固有ベクトルと固有値に分解する\n",
    "4. 最も大きい*k*個の固有値に対応するk個の固有ベクトルを選択する（*k* ≤ *d*）\n",
    "5. 上位*k*個の固有ベクトルから射影行列**_W_**を作成する\n",
    "6. 射影行列**_W_**を使って*d*次元の入力データセット**_X_**を変換し、新しい*k*次元の特徴部分空間を取得する"
   ]
  },
  {
   "cell_type": "markdown",
   "metadata": {},
   "source": [
    "### （補足）主なPCA の流れ \n",
    "\n",
    "\\begin{align}\n",
    "x = [x_1,x_2,\\cdots,x_d]    \\rightarrow xW, W \\in R^{d\\times k}\n",
    "\\end{align}\n",
    "通常は$k << d$\n",
    "\n",
    "全ての主成分の分散が（それよりも前の主成分を除くと）最大になるのは，他の主成分と相関がない（直交している）場合である．\n"
   ]
  },
  {
   "cell_type": "markdown",
   "metadata": {
    "collapsed": true,
    "deletable": true,
    "editable": true
   },
   "source": [
    "## 5.1.1 共分散行列の固有対を求める\n",
    "---"
   ]
  },
  {
   "cell_type": "markdown",
   "metadata": {},
   "source": [
    "Wine データセットをロードする"
   ]
  },
  {
   "cell_type": "code",
   "execution_count": 3,
   "metadata": {
    "collapsed": false
   },
   "outputs": [
    {
     "data": {
      "text/html": [
       "<div>\n",
       "<table border=\"1\" class=\"dataframe\">\n",
       "  <thead>\n",
       "    <tr style=\"text-align: right;\">\n",
       "      <th></th>\n",
       "      <th>Class label</th>\n",
       "      <th>Alcohol</th>\n",
       "      <th>Malic acid</th>\n",
       "      <th>Ash</th>\n",
       "      <th>Alcalinity of ash</th>\n",
       "      <th>Magnesium</th>\n",
       "      <th>Total phenols</th>\n",
       "      <th>Flavanoids</th>\n",
       "      <th>Nonflavanoid phenols</th>\n",
       "      <th>Proanthocyanins</th>\n",
       "      <th>Color intensity</th>\n",
       "      <th>Hue</th>\n",
       "      <th>OD280/OD315 of diluted wines</th>\n",
       "      <th>Proline</th>\n",
       "    </tr>\n",
       "  </thead>\n",
       "  <tbody>\n",
       "    <tr>\n",
       "      <th>0</th>\n",
       "      <td>1</td>\n",
       "      <td>14.23</td>\n",
       "      <td>1.71</td>\n",
       "      <td>2.43</td>\n",
       "      <td>15.6</td>\n",
       "      <td>127</td>\n",
       "      <td>2.80</td>\n",
       "      <td>3.06</td>\n",
       "      <td>0.28</td>\n",
       "      <td>2.29</td>\n",
       "      <td>5.64</td>\n",
       "      <td>1.04</td>\n",
       "      <td>3.92</td>\n",
       "      <td>1065</td>\n",
       "    </tr>\n",
       "    <tr>\n",
       "      <th>1</th>\n",
       "      <td>1</td>\n",
       "      <td>13.20</td>\n",
       "      <td>1.78</td>\n",
       "      <td>2.14</td>\n",
       "      <td>11.2</td>\n",
       "      <td>100</td>\n",
       "      <td>2.65</td>\n",
       "      <td>2.76</td>\n",
       "      <td>0.26</td>\n",
       "      <td>1.28</td>\n",
       "      <td>4.38</td>\n",
       "      <td>1.05</td>\n",
       "      <td>3.40</td>\n",
       "      <td>1050</td>\n",
       "    </tr>\n",
       "    <tr>\n",
       "      <th>2</th>\n",
       "      <td>1</td>\n",
       "      <td>13.16</td>\n",
       "      <td>2.36</td>\n",
       "      <td>2.67</td>\n",
       "      <td>18.6</td>\n",
       "      <td>101</td>\n",
       "      <td>2.80</td>\n",
       "      <td>3.24</td>\n",
       "      <td>0.30</td>\n",
       "      <td>2.81</td>\n",
       "      <td>5.68</td>\n",
       "      <td>1.03</td>\n",
       "      <td>3.17</td>\n",
       "      <td>1185</td>\n",
       "    </tr>\n",
       "    <tr>\n",
       "      <th>3</th>\n",
       "      <td>1</td>\n",
       "      <td>14.37</td>\n",
       "      <td>1.95</td>\n",
       "      <td>2.50</td>\n",
       "      <td>16.8</td>\n",
       "      <td>113</td>\n",
       "      <td>3.85</td>\n",
       "      <td>3.49</td>\n",
       "      <td>0.24</td>\n",
       "      <td>2.18</td>\n",
       "      <td>7.80</td>\n",
       "      <td>0.86</td>\n",
       "      <td>3.45</td>\n",
       "      <td>1480</td>\n",
       "    </tr>\n",
       "    <tr>\n",
       "      <th>4</th>\n",
       "      <td>1</td>\n",
       "      <td>13.24</td>\n",
       "      <td>2.59</td>\n",
       "      <td>2.87</td>\n",
       "      <td>21.0</td>\n",
       "      <td>118</td>\n",
       "      <td>2.80</td>\n",
       "      <td>2.69</td>\n",
       "      <td>0.39</td>\n",
       "      <td>1.82</td>\n",
       "      <td>4.32</td>\n",
       "      <td>1.04</td>\n",
       "      <td>2.93</td>\n",
       "      <td>735</td>\n",
       "    </tr>\n",
       "  </tbody>\n",
       "</table>\n",
       "</div>"
      ],
      "text/plain": [
       "   Class label  Alcohol  Malic acid   Ash  Alcalinity of ash  Magnesium  \\\n",
       "0            1    14.23        1.71  2.43               15.6        127   \n",
       "1            1    13.20        1.78  2.14               11.2        100   \n",
       "2            1    13.16        2.36  2.67               18.6        101   \n",
       "3            1    14.37        1.95  2.50               16.8        113   \n",
       "4            1    13.24        2.59  2.87               21.0        118   \n",
       "\n",
       "   Total phenols  Flavanoids  Nonflavanoid phenols  Proanthocyanins  \\\n",
       "0           2.80        3.06                  0.28             2.29   \n",
       "1           2.65        2.76                  0.26             1.28   \n",
       "2           2.80        3.24                  0.30             2.81   \n",
       "3           3.85        3.49                  0.24             2.18   \n",
       "4           2.80        2.69                  0.39             1.82   \n",
       "\n",
       "   Color intensity   Hue  OD280/OD315 of diluted wines  Proline  \n",
       "0             5.64  1.04                          3.92     1065  \n",
       "1             4.38  1.05                          3.40     1050  \n",
       "2             5.68  1.03                          3.17     1185  \n",
       "3             7.80  0.86                          3.45     1480  \n",
       "4             4.32  1.04                          2.93      735  "
      ]
     },
     "execution_count": 3,
     "metadata": {},
     "output_type": "execute_result"
    }
   ],
   "source": [
    "import pandas as pd\n",
    "\n",
    "df_wine = pd.read_csv('https://archive.ics.uci.edu/ml/'\n",
    "                      'machine-learning-databases/wine/wine.data',\n",
    "                      header=None)\n",
    "\n",
    "df_wine.columns = ['Class label', 'Alcohol', 'Malic acid', 'Ash',\n",
    "                   'Alcalinity of ash', 'Magnesium', 'Total phenols',\n",
    "                   'Flavanoids', 'Nonflavanoid phenols', 'Proanthocyanins',\n",
    "                   'Color intensity', 'Hue',\n",
    "                   'OD280/OD315 of diluted wines', 'Proline']\n",
    "\n",
    "df_wine.head()"
   ]
  },
  {
   "cell_type": "markdown",
   "metadata": {},
   "source": [
    "Wine データセットをトレーニングデータセット(70%)とテストデータセット（30%）に分割する"
   ]
  },
  {
   "cell_type": "code",
   "execution_count": 9,
   "metadata": {
    "collapsed": false
   },
   "outputs": [
    {
     "name": "stdout",
     "output_type": "stream",
     "text": [
      "(124, 13)\n",
      "[[  1.37400000e+01   1.67000000e+00   2.25000000e+00   1.64000000e+01\n",
      "    1.18000000e+02   2.60000000e+00   2.90000000e+00   2.10000000e-01\n",
      "    1.62000000e+00   5.85000000e+00   9.20000000e-01   3.20000000e+00\n",
      "    1.06000000e+03]\n",
      " [  1.27900000e+01   2.67000000e+00   2.48000000e+00   2.20000000e+01\n",
      "    1.12000000e+02   1.48000000e+00   1.36000000e+00   2.40000000e-01\n",
      "    1.26000000e+00   1.08000000e+01   4.80000000e-01   1.47000000e+00\n",
      "    4.80000000e+02]\n",
      " [  1.23700000e+01   1.13000000e+00   2.16000000e+00   1.90000000e+01\n",
      "    8.70000000e+01   3.50000000e+00   3.10000000e+00   1.90000000e-01\n",
      "    1.87000000e+00   4.45000000e+00   1.22000000e+00   2.87000000e+00\n",
      "    4.20000000e+02]\n",
      " [  1.35600000e+01   1.73000000e+00   2.46000000e+00   2.05000000e+01\n",
      "    1.16000000e+02   2.96000000e+00   2.78000000e+00   2.00000000e-01\n",
      "    2.45000000e+00   6.25000000e+00   9.80000000e-01   3.03000000e+00\n",
      "    1.12000000e+03]\n",
      " [  1.30500000e+01   5.80000000e+00   2.13000000e+00   2.15000000e+01\n",
      "    8.60000000e+01   2.62000000e+00   2.65000000e+00   3.00000000e-01\n",
      "    2.01000000e+00   2.60000000e+00   7.30000000e-01   3.10000000e+00\n",
      "    3.80000000e+02]\n",
      " [  1.15600000e+01   2.05000000e+00   3.23000000e+00   2.85000000e+01\n",
      "    1.19000000e+02   3.18000000e+00   5.08000000e+00   4.70000000e-01\n",
      "    1.87000000e+00   6.00000000e+00   9.30000000e-01   3.69000000e+00\n",
      "    4.65000000e+02]\n",
      " [  1.40600000e+01   2.15000000e+00   2.61000000e+00   1.76000000e+01\n",
      "    1.21000000e+02   2.60000000e+00   2.51000000e+00   3.10000000e-01\n",
      "    1.25000000e+00   5.05000000e+00   1.06000000e+00   3.58000000e+00\n",
      "    1.29500000e+03]\n",
      " [  1.23600000e+01   3.83000000e+00   2.38000000e+00   2.10000000e+01\n",
      "    8.80000000e+01   2.30000000e+00   9.20000000e-01   5.00000000e-01\n",
      "    1.04000000e+00   7.65000000e+00   5.60000000e-01   1.58000000e+00\n",
      "    5.20000000e+02]\n",
      " [  1.22500000e+01   1.73000000e+00   2.12000000e+00   1.90000000e+01\n",
      "    8.00000000e+01   1.65000000e+00   2.03000000e+00   3.70000000e-01\n",
      "    1.63000000e+00   3.40000000e+00   1.00000000e+00   3.17000000e+00\n",
      "    5.10000000e+02]\n",
      " [  1.20800000e+01   1.83000000e+00   2.32000000e+00   1.85000000e+01\n",
      "    8.10000000e+01   1.60000000e+00   1.50000000e+00   5.20000000e-01\n",
      "    1.64000000e+00   2.40000000e+00   1.08000000e+00   2.27000000e+00\n",
      "    4.80000000e+02]\n",
      " [  1.33600000e+01   2.56000000e+00   2.35000000e+00   2.00000000e+01\n",
      "    8.90000000e+01   1.40000000e+00   5.00000000e-01   3.70000000e-01\n",
      "    6.40000000e-01   5.60000000e+00   7.00000000e-01   2.47000000e+00\n",
      "    7.80000000e+02]\n",
      " [  1.38800000e+01   5.04000000e+00   2.23000000e+00   2.00000000e+01\n",
      "    8.00000000e+01   9.80000000e-01   3.40000000e-01   4.00000000e-01\n",
      "    6.80000000e-01   4.90000000e+00   5.80000000e-01   1.33000000e+00\n",
      "    4.15000000e+02]\n",
      " [  1.42000000e+01   1.76000000e+00   2.45000000e+00   1.52000000e+01\n",
      "    1.12000000e+02   3.27000000e+00   3.39000000e+00   3.40000000e-01\n",
      "    1.97000000e+00   6.75000000e+00   1.05000000e+00   2.85000000e+00\n",
      "    1.45000000e+03]\n",
      " [  1.23700000e+01   1.07000000e+00   2.10000000e+00   1.85000000e+01\n",
      "    8.80000000e+01   3.52000000e+00   3.75000000e+00   2.40000000e-01\n",
      "    1.95000000e+00   4.50000000e+00   1.04000000e+00   2.77000000e+00\n",
      "    6.60000000e+02]\n",
      " [  1.35800000e+01   2.58000000e+00   2.69000000e+00   2.45000000e+01\n",
      "    1.05000000e+02   1.55000000e+00   8.40000000e-01   3.90000000e-01\n",
      "    1.54000000e+00   8.66000000e+00   7.40000000e-01   1.80000000e+00\n",
      "    7.50000000e+02]\n",
      " [  1.20000000e+01   9.20000000e-01   2.00000000e+00   1.90000000e+01\n",
      "    8.60000000e+01   2.42000000e+00   2.26000000e+00   3.00000000e-01\n",
      "    1.43000000e+00   2.50000000e+00   1.38000000e+00   3.12000000e+00\n",
      "    2.78000000e+02]\n",
      " [  1.37600000e+01   1.53000000e+00   2.70000000e+00   1.95000000e+01\n",
      "    1.32000000e+02   2.95000000e+00   2.74000000e+00   5.00000000e-01\n",
      "    1.35000000e+00   5.40000000e+00   1.25000000e+00   3.00000000e+00\n",
      "    1.23500000e+03]\n",
      " [  1.41900000e+01   1.59000000e+00   2.48000000e+00   1.65000000e+01\n",
      "    1.08000000e+02   3.30000000e+00   3.93000000e+00   3.20000000e-01\n",
      "    1.86000000e+00   8.70000000e+00   1.23000000e+00   2.82000000e+00\n",
      "    1.68000000e+03]\n",
      " [  1.26400000e+01   1.36000000e+00   2.02000000e+00   1.68000000e+01\n",
      "    1.00000000e+02   2.02000000e+00   1.41000000e+00   5.30000000e-01\n",
      "    6.20000000e-01   5.75000000e+00   9.80000000e-01   1.59000000e+00\n",
      "    4.50000000e+02]\n",
      " [  1.38300000e+01   1.65000000e+00   2.60000000e+00   1.72000000e+01\n",
      "    9.40000000e+01   2.45000000e+00   2.99000000e+00   2.20000000e-01\n",
      "    2.29000000e+00   5.60000000e+00   1.24000000e+00   3.37000000e+00\n",
      "    1.26500000e+03]\n",
      " [  1.31100000e+01   1.01000000e+00   1.70000000e+00   1.50000000e+01\n",
      "    7.80000000e+01   2.98000000e+00   3.18000000e+00   2.60000000e-01\n",
      "    2.28000000e+00   5.30000000e+00   1.12000000e+00   3.18000000e+00\n",
      "    5.02000000e+02]\n",
      " [  1.30500000e+01   1.65000000e+00   2.55000000e+00   1.80000000e+01\n",
      "    9.80000000e+01   2.45000000e+00   2.43000000e+00   2.90000000e-01\n",
      "    1.44000000e+00   4.25000000e+00   1.12000000e+00   2.51000000e+00\n",
      "    1.10500000e+03]\n",
      " [  1.32400000e+01   2.59000000e+00   2.87000000e+00   2.10000000e+01\n",
      "    1.18000000e+02   2.80000000e+00   2.69000000e+00   3.90000000e-01\n",
      "    1.82000000e+00   4.32000000e+00   1.04000000e+00   2.93000000e+00\n",
      "    7.35000000e+02]\n",
      " [  1.25100000e+01   1.73000000e+00   1.98000000e+00   2.05000000e+01\n",
      "    8.50000000e+01   2.20000000e+00   1.92000000e+00   3.20000000e-01\n",
      "    1.48000000e+00   2.94000000e+00   1.04000000e+00   3.57000000e+00\n",
      "    6.72000000e+02]\n",
      " [  1.23300000e+01   1.10000000e+00   2.28000000e+00   1.60000000e+01\n",
      "    1.01000000e+02   2.05000000e+00   1.09000000e+00   6.30000000e-01\n",
      "    4.10000000e-01   3.27000000e+00   1.25000000e+00   1.67000000e+00\n",
      "    6.80000000e+02]\n",
      " [  1.25200000e+01   2.43000000e+00   2.17000000e+00   2.10000000e+01\n",
      "    8.80000000e+01   2.55000000e+00   2.27000000e+00   2.60000000e-01\n",
      "    1.22000000e+00   2.00000000e+00   9.00000000e-01   2.78000000e+00\n",
      "    3.25000000e+02]\n",
      " [  1.24300000e+01   1.53000000e+00   2.29000000e+00   2.15000000e+01\n",
      "    8.60000000e+01   2.74000000e+00   3.15000000e+00   3.90000000e-01\n",
      "    1.77000000e+00   3.94000000e+00   6.90000000e-01   2.84000000e+00\n",
      "    3.52000000e+02]\n",
      " [  1.21600000e+01   1.61000000e+00   2.31000000e+00   2.28000000e+01\n",
      "    9.00000000e+01   1.78000000e+00   1.69000000e+00   4.30000000e-01\n",
      "    1.56000000e+00   2.45000000e+00   1.33000000e+00   2.26000000e+00\n",
      "    4.95000000e+02]\n",
      " [  1.17600000e+01   2.68000000e+00   2.92000000e+00   2.00000000e+01\n",
      "    1.03000000e+02   1.75000000e+00   2.03000000e+00   6.00000000e-01\n",
      "    1.05000000e+00   3.80000000e+00   1.23000000e+00   2.50000000e+00\n",
      "    6.07000000e+02]\n",
      " [  1.37800000e+01   2.76000000e+00   2.30000000e+00   2.20000000e+01\n",
      "    9.00000000e+01   1.35000000e+00   6.80000000e-01   4.10000000e-01\n",
      "    1.03000000e+00   9.58000000e+00   7.00000000e-01   1.68000000e+00\n",
      "    6.15000000e+02]\n",
      " [  1.33900000e+01   1.77000000e+00   2.62000000e+00   1.61000000e+01\n",
      "    9.30000000e+01   2.85000000e+00   2.94000000e+00   3.40000000e-01\n",
      "    1.45000000e+00   4.80000000e+00   9.20000000e-01   3.22000000e+00\n",
      "    1.19500000e+03]\n",
      " [  1.42200000e+01   1.70000000e+00   2.30000000e+00   1.63000000e+01\n",
      "    1.18000000e+02   3.20000000e+00   3.00000000e+00   2.60000000e-01\n",
      "    2.03000000e+00   6.38000000e+00   9.40000000e-01   3.31000000e+00\n",
      "    9.70000000e+02]\n",
      " [  1.20400000e+01   4.30000000e+00   2.38000000e+00   2.20000000e+01\n",
      "    8.00000000e+01   2.10000000e+00   1.75000000e+00   4.20000000e-01\n",
      "    1.35000000e+00   2.60000000e+00   7.90000000e-01   2.57000000e+00\n",
      "    5.80000000e+02]\n",
      " [  1.42100000e+01   4.04000000e+00   2.44000000e+00   1.89000000e+01\n",
      "    1.11000000e+02   2.85000000e+00   2.65000000e+00   3.00000000e-01\n",
      "    1.25000000e+00   5.24000000e+00   8.70000000e-01   3.33000000e+00\n",
      "    1.08000000e+03]\n",
      " [  1.48300000e+01   1.64000000e+00   2.17000000e+00   1.40000000e+01\n",
      "    9.70000000e+01   2.80000000e+00   2.98000000e+00   2.90000000e-01\n",
      "    1.98000000e+00   5.20000000e+00   1.08000000e+00   2.85000000e+00\n",
      "    1.04500000e+03]\n",
      " [  1.30500000e+01   1.77000000e+00   2.10000000e+00   1.70000000e+01\n",
      "    1.07000000e+02   3.00000000e+00   3.00000000e+00   2.80000000e-01\n",
      "    2.03000000e+00   5.04000000e+00   8.80000000e-01   3.35000000e+00\n",
      "    8.85000000e+02]\n",
      " [  1.36900000e+01   3.26000000e+00   2.54000000e+00   2.00000000e+01\n",
      "    1.07000000e+02   1.83000000e+00   5.60000000e-01   5.00000000e-01\n",
      "    8.00000000e-01   5.88000000e+00   9.60000000e-01   1.82000000e+00\n",
      "    6.80000000e+02]\n",
      " [  1.26900000e+01   1.53000000e+00   2.26000000e+00   2.07000000e+01\n",
      "    8.00000000e+01   1.38000000e+00   1.46000000e+00   5.80000000e-01\n",
      "    1.62000000e+00   3.05000000e+00   9.60000000e-01   2.06000000e+00\n",
      "    4.95000000e+02]\n",
      " [  1.16200000e+01   1.99000000e+00   2.28000000e+00   1.80000000e+01\n",
      "    9.80000000e+01   3.02000000e+00   2.26000000e+00   1.70000000e-01\n",
      "    1.35000000e+00   3.25000000e+00   1.16000000e+00   2.96000000e+00\n",
      "    3.45000000e+02]\n",
      " [  1.34000000e+01   3.91000000e+00   2.48000000e+00   2.30000000e+01\n",
      "    1.02000000e+02   1.80000000e+00   7.50000000e-01   4.30000000e-01\n",
      "    1.41000000e+00   7.30000000e+00   7.00000000e-01   1.56000000e+00\n",
      "    7.50000000e+02]\n",
      " [  1.35000000e+01   1.81000000e+00   2.61000000e+00   2.00000000e+01\n",
      "    9.60000000e+01   2.53000000e+00   2.61000000e+00   2.80000000e-01\n",
      "    1.66000000e+00   3.52000000e+00   1.12000000e+00   3.82000000e+00\n",
      "    8.45000000e+02]\n",
      " [  1.37300000e+01   1.50000000e+00   2.70000000e+00   2.25000000e+01\n",
      "    1.01000000e+02   3.00000000e+00   3.25000000e+00   2.90000000e-01\n",
      "    2.38000000e+00   5.70000000e+00   1.19000000e+00   2.71000000e+00\n",
      "    1.28500000e+03]\n",
      " [  1.22900000e+01   2.83000000e+00   2.22000000e+00   1.80000000e+01\n",
      "    8.80000000e+01   2.45000000e+00   2.25000000e+00   2.50000000e-01\n",
      "    1.99000000e+00   2.15000000e+00   1.15000000e+00   3.30000000e+00\n",
      "    2.90000000e+02]\n",
      " [  1.26000000e+01   1.34000000e+00   1.90000000e+00   1.85000000e+01\n",
      "    8.80000000e+01   1.45000000e+00   1.36000000e+00   2.90000000e-01\n",
      "    1.35000000e+00   2.45000000e+00   1.04000000e+00   2.77000000e+00\n",
      "    5.62000000e+02]\n",
      " [  1.14100000e+01   7.40000000e-01   2.50000000e+00   2.10000000e+01\n",
      "    8.80000000e+01   2.48000000e+00   2.01000000e+00   4.20000000e-01\n",
      "    1.44000000e+00   3.08000000e+00   1.10000000e+00   2.31000000e+00\n",
      "    4.34000000e+02]\n",
      " [  1.36400000e+01   3.10000000e+00   2.56000000e+00   1.52000000e+01\n",
      "    1.16000000e+02   2.70000000e+00   3.03000000e+00   1.70000000e-01\n",
      "    1.66000000e+00   5.10000000e+00   9.60000000e-01   3.36000000e+00\n",
      "    8.45000000e+02]\n",
      " [  1.26000000e+01   2.46000000e+00   2.20000000e+00   1.85000000e+01\n",
      "    9.40000000e+01   1.62000000e+00   6.60000000e-01   6.30000000e-01\n",
      "    9.40000000e-01   7.10000000e+00   7.30000000e-01   1.58000000e+00\n",
      "    6.95000000e+02]\n",
      " [  1.19600000e+01   1.09000000e+00   2.30000000e+00   2.10000000e+01\n",
      "    1.01000000e+02   3.38000000e+00   2.14000000e+00   1.30000000e-01\n",
      "    1.65000000e+00   3.21000000e+00   9.90000000e-01   3.13000000e+00\n",
      "    8.86000000e+02]\n",
      " [  1.22500000e+01   3.88000000e+00   2.20000000e+00   1.85000000e+01\n",
      "    1.12000000e+02   1.38000000e+00   7.80000000e-01   2.90000000e-01\n",
      "    1.14000000e+00   8.21000000e+00   6.50000000e-01   2.00000000e+00\n",
      "    8.55000000e+02]\n",
      " [  1.43000000e+01   1.92000000e+00   2.72000000e+00   2.00000000e+01\n",
      "    1.20000000e+02   2.80000000e+00   3.14000000e+00   3.30000000e-01\n",
      "    1.97000000e+00   6.20000000e+00   1.07000000e+00   2.65000000e+00\n",
      "    1.28000000e+03]\n",
      " [  1.28800000e+01   2.99000000e+00   2.40000000e+00   2.00000000e+01\n",
      "    1.04000000e+02   1.30000000e+00   1.22000000e+00   2.40000000e-01\n",
      "    8.30000000e-01   5.40000000e+00   7.40000000e-01   1.42000000e+00\n",
      "    5.30000000e+02]\n",
      " [  1.34900000e+01   3.59000000e+00   2.19000000e+00   1.95000000e+01\n",
      "    8.80000000e+01   1.62000000e+00   4.80000000e-01   5.80000000e-01\n",
      "    8.80000000e-01   5.70000000e+00   8.10000000e-01   1.82000000e+00\n",
      "    5.80000000e+02]\n",
      " [  1.35600000e+01   1.71000000e+00   2.31000000e+00   1.62000000e+01\n",
      "    1.17000000e+02   3.15000000e+00   3.29000000e+00   3.40000000e-01\n",
      "    2.34000000e+00   6.13000000e+00   9.50000000e-01   3.38000000e+00\n",
      "    7.95000000e+02]\n",
      " [  1.43400000e+01   1.68000000e+00   2.70000000e+00   2.50000000e+01\n",
      "    9.80000000e+01   2.80000000e+00   1.31000000e+00   5.30000000e-01\n",
      "    2.70000000e+00   1.30000000e+01   5.70000000e-01   1.96000000e+00\n",
      "    6.60000000e+02]]\n"
     ]
    }
   ],
   "source": [
    "if Version(sklearn_version) < '0.18':\n",
    "    from sklearn.cross_validation import train_test_split\n",
    "else:\n",
    "    from sklearn.model_selection import train_test_split\n",
    "\n",
    "X, y = df_wine.iloc[:, 1:].values, df_wine.iloc[:, 0].values\n",
    "\n",
    "X_train, X_test, y_train, y_test = train_test_split(X, y, test_size=0.3, random_state=0)\n",
    "print(X_train.shape)\n",
    "print(X_test)"
   ]
  },
  {
   "cell_type": "code",
   "execution_count": 7,
   "metadata": {
    "collapsed": false
   },
   "outputs": [
    {
     "name": "stdout",
     "output_type": "stream",
     "text": [
      "Help on function train_test_split in module sklearn.model_selection._split:\n",
      "\n",
      "train_test_split(*arrays, **options)\n",
      "    Split arrays or matrices into random train and test subsets\n",
      "    \n",
      "    Quick utility that wraps input validation and\n",
      "    ``next(ShuffleSplit().split(X, y))`` and application to input data\n",
      "    into a single call for splitting (and optionally subsampling) data in a\n",
      "    oneliner.\n",
      "    \n",
      "    Read more in the :ref:`User Guide <cross_validation>`.\n",
      "    \n",
      "    Parameters\n",
      "    ----------\n",
      "    *arrays : sequence of indexables with same length / shape[0]\n",
      "        Allowed inputs are lists, numpy arrays, scipy-sparse\n",
      "        matrices or pandas dataframes.\n",
      "    \n",
      "    test_size : float, int, or None (default is None)\n",
      "        If float, should be between 0.0 and 1.0 and represent the\n",
      "        proportion of the dataset to include in the test split. If\n",
      "        int, represents the absolute number of test samples. If None,\n",
      "        the value is automatically set to the complement of the train size.\n",
      "        If train size is also None, test size is set to 0.25.\n",
      "    \n",
      "    train_size : float, int, or None (default is None)\n",
      "        If float, should be between 0.0 and 1.0 and represent the\n",
      "        proportion of the dataset to include in the train split. If\n",
      "        int, represents the absolute number of train samples. If None,\n",
      "        the value is automatically set to the complement of the test size.\n",
      "    \n",
      "    random_state : int or RandomState\n",
      "        Pseudo-random number generator state used for random sampling.\n",
      "    \n",
      "    stratify : array-like or None (default is None)\n",
      "        If not None, data is split in a stratified fashion, using this as\n",
      "        the class labels.\n",
      "    \n",
      "    Returns\n",
      "    -------\n",
      "    splitting : list, length=2 * len(arrays)\n",
      "        List containing train-test split of inputs.\n",
      "    \n",
      "        .. versionadded:: 0.16\n",
      "            If the input is sparse, the output will be a\n",
      "            ``scipy.sparse.csr_matrix``. Else, output type is the same as the\n",
      "            input type.\n",
      "    \n",
      "    Examples\n",
      "    --------\n",
      "    >>> import numpy as np\n",
      "    >>> from sklearn.model_selection import train_test_split\n",
      "    >>> X, y = np.arange(10).reshape((5, 2)), range(5)\n",
      "    >>> X\n",
      "    array([[0, 1],\n",
      "           [2, 3],\n",
      "           [4, 5],\n",
      "           [6, 7],\n",
      "           [8, 9]])\n",
      "    >>> list(y)\n",
      "    [0, 1, 2, 3, 4]\n",
      "    \n",
      "    >>> X_train, X_test, y_train, y_test = train_test_split(\n",
      "    ...     X, y, test_size=0.33, random_state=42)\n",
      "    ...\n",
      "    >>> X_train\n",
      "    array([[4, 5],\n",
      "           [0, 1],\n",
      "           [6, 7]])\n",
      "    >>> y_train\n",
      "    [2, 0, 3]\n",
      "    >>> X_test\n",
      "    array([[2, 3],\n",
      "           [8, 9]])\n",
      "    >>> y_test\n",
      "    [1, 4]\n",
      "\n"
     ]
    }
   ],
   "source": [
    "help(train_test_split)"
   ]
  },
  {
   "cell_type": "markdown",
   "metadata": {},
   "source": [
    "分散が1となるように標準化する"
   ]
  },
  {
   "cell_type": "code",
   "execution_count": 10,
   "metadata": {
    "collapsed": false
   },
   "outputs": [
    {
     "name": "stdout",
     "output_type": "stream",
     "text": [
      "[[ 0.91083058 -0.46259897 -0.01142613 ...,  0.65706596  1.94354495\n",
      "   0.93700997]\n",
      " [-0.95609928 -0.96608672 -1.53725357 ..., -0.40859506  0.58118003\n",
      "  -1.41336684]\n",
      " [ 0.35952243  1.67501572 -0.37471838 ..., -1.55950896 -1.44846566\n",
      "   0.28683658]\n",
      " ..., \n",
      " [-0.70550467 -0.68342693 -0.62902295 ...,  0.44393375  0.49776993\n",
      "  -1.30608823]\n",
      " [ 1.14889546 -0.6215951  -0.88332752 ..., -0.19546286  1.0121322\n",
      "   0.77446662]\n",
      " [ 1.47466845  0.11155374  0.42452457 ..., -1.43162964 -1.23994042\n",
      "  -0.28206514]]\n"
     ]
    }
   ],
   "source": [
    "from sklearn.preprocessing import StandardScaler\n",
    "\n",
    "sc = StandardScaler()\n",
    "X_train_std = sc.fit_transform(X_train)\n",
    "X_test_std = sc.transform(X_test)\n",
    "print(X_train_std)\n",
    "#help(StandardScaler.fit_transform)\n",
    "#help(StandardScaler.transform)"
   ]
  },
  {
   "cell_type": "markdown",
   "metadata": {},
   "source": [
    "Numpyのlinalg.eig 関数を使って、Wine データセットの共分散行列の固有対（eigenpair: 固有値と固有ベクトル）を取得する"
   ]
  },
  {
   "cell_type": "code",
   "execution_count": 17,
   "metadata": {
    "collapsed": false
   },
   "outputs": [
    {
     "name": "stdout",
     "output_type": "stream",
     "text": [
      "\n",
      "Eigenvalues \n",
      "[ 4.8923083   2.46635032  1.42809973  1.01233462  0.84906459  0.60181514\n",
      "  0.52251546  0.08414846  0.33051429  0.29595018  0.16831254  0.21432212\n",
      "  0.2399553 ]\n"
     ]
    }
   ],
   "source": [
    "import numpy as np\n",
    "cov_mat = np.cov(X_train_std.T)\n",
    "eigen_vals, eigen_vecs = np.linalg.eig(cov_mat)\n",
    "\n",
    "print('\\nEigenvalues \\n%s' % eigen_vals)"
   ]
  },
  {
   "cell_type": "code",
   "execution_count": 30,
   "metadata": {
    "collapsed": false
   },
   "outputs": [
    {
     "name": "stdout",
     "output_type": "stream",
     "text": [
      "Help on function cov in module numpy.lib.function_base:\n",
      "\n",
      "cov(m, y=None, rowvar=True, bias=False, ddof=None, fweights=None, aweights=None)\n",
      "    Estimate a covariance matrix, given data and weights.\n",
      "    \n",
      "    Covariance indicates the level to which two variables vary together.\n",
      "    If we examine N-dimensional samples, :math:`X = [x_1, x_2, ... x_N]^T`,\n",
      "    then the covariance matrix element :math:`C_{ij}` is the covariance of\n",
      "    :math:`x_i` and :math:`x_j`. The element :math:`C_{ii}` is the variance\n",
      "    of :math:`x_i`.\n",
      "    \n",
      "    See the notes for an outline of the algorithm.\n",
      "    \n",
      "    Parameters\n",
      "    ----------\n",
      "    m : array_like\n",
      "        A 1-D or 2-D array containing multiple variables and observations.\n",
      "        Each row of `m` represents a variable, and each column a single\n",
      "        observation of all those variables. Also see `rowvar` below.\n",
      "    y : array_like, optional\n",
      "        An additional set of variables and observations. `y` has the same form\n",
      "        as that of `m`.\n",
      "    rowvar : bool, optional\n",
      "        If `rowvar` is True (default), then each row represents a\n",
      "        variable, with observations in the columns. Otherwise, the relationship\n",
      "        is transposed: each column represents a variable, while the rows\n",
      "        contain observations.\n",
      "    bias : bool, optional\n",
      "        Default normalization (False) is by ``(N - 1)``, where ``N`` is the\n",
      "        number of observations given (unbiased estimate). If `bias` is True, then\n",
      "        normalization is by ``N``. These values can be overridden by using the\n",
      "        keyword ``ddof`` in numpy versions >= 1.5.\n",
      "    ddof : int, optional\n",
      "        If not ``None`` the default value implied by `bias` is overridden.\n",
      "        Note that ``ddof=1`` will return the unbiased estimate, even if both\n",
      "        `fweights` and `aweights` are specified, and ``ddof=0`` will return\n",
      "        the simple average. See the notes for the details. The default value\n",
      "        is ``None``.\n",
      "    \n",
      "        .. versionadded:: 1.5\n",
      "    fweights : array_like, int, optional\n",
      "        1-D array of integer freguency weights; the number of times each\n",
      "        observation vector should be repeated.\n",
      "    \n",
      "        .. versionadded:: 1.10\n",
      "    aweights : array_like, optional\n",
      "        1-D array of observation vector weights. These relative weights are\n",
      "        typically large for observations considered \"important\" and smaller for\n",
      "        observations considered less \"important\". If ``ddof=0`` the array of\n",
      "        weights can be used to assign probabilities to observation vectors.\n",
      "    \n",
      "        .. versionadded:: 1.10\n",
      "    \n",
      "    Returns\n",
      "    -------\n",
      "    out : ndarray\n",
      "        The covariance matrix of the variables.\n",
      "    \n",
      "    See Also\n",
      "    --------\n",
      "    corrcoef : Normalized covariance matrix\n",
      "    \n",
      "    Notes\n",
      "    -----\n",
      "    Assume that the observations are in the columns of the observation\n",
      "    array `m` and let ``f = fweights`` and ``a = aweights`` for brevity. The\n",
      "    steps to compute the weighted covariance are as follows::\n",
      "    \n",
      "        >>> w = f * a\n",
      "        >>> v1 = np.sum(w)\n",
      "        >>> v2 = np.sum(w * a)\n",
      "        >>> m -= np.sum(m * w, axis=1, keepdims=True) / v1\n",
      "        >>> cov = np.dot(m * w, m.T) * v1 / (v1**2 - ddof * v2)\n",
      "    \n",
      "    Note that when ``a == 1``, the normalization factor\n",
      "    ``v1 / (v1**2 - ddof * v2)`` goes over to ``1 / (np.sum(f) - ddof)``\n",
      "    as it should.\n",
      "    \n",
      "    Examples\n",
      "    --------\n",
      "    Consider two variables, :math:`x_0` and :math:`x_1`, which\n",
      "    correlate perfectly, but in opposite directions:\n",
      "    \n",
      "    >>> x = np.array([[0, 2], [1, 1], [2, 0]]).T\n",
      "    >>> x\n",
      "    array([[0, 1, 2],\n",
      "           [2, 1, 0]])\n",
      "    \n",
      "    Note how :math:`x_0` increases while :math:`x_1` decreases. The covariance\n",
      "    matrix shows this clearly:\n",
      "    \n",
      "    >>> np.cov(x)\n",
      "    array([[ 1., -1.],\n",
      "           [-1.,  1.]])\n",
      "    \n",
      "    Note that element :math:`C_{0,1}`, which shows the correlation between\n",
      "    :math:`x_0` and :math:`x_1`, is negative.\n",
      "    \n",
      "    Further, note how `x` and `y` are combined:\n",
      "    \n",
      "    >>> x = [-2.1, -1,  4.3]\n",
      "    >>> y = [3,  1.1,  0.12]\n",
      "    >>> X = np.vstack((x,y))\n",
      "    >>> print(np.cov(X))\n",
      "    [[ 11.71        -4.286     ]\n",
      "     [ -4.286        2.14413333]]\n",
      "    >>> print(np.cov(x, y))\n",
      "    [[ 11.71        -4.286     ]\n",
      "     [ -4.286        2.14413333]]\n",
      "    >>> print(np.cov(x))\n",
      "    11.71\n",
      "\n",
      "Help on function eig in module numpy.linalg.linalg:\n",
      "\n",
      "eig(a)\n",
      "    Compute the eigenvalues and right eigenvectors of a square array.\n",
      "    \n",
      "    Parameters\n",
      "    ----------\n",
      "    a : (..., M, M) array\n",
      "        Matrices for which the eigenvalues and right eigenvectors will\n",
      "        be computed\n",
      "    \n",
      "    Returns\n",
      "    -------\n",
      "    w : (..., M) array\n",
      "        The eigenvalues, each repeated according to its multiplicity.\n",
      "        The eigenvalues are not necessarily ordered. The resulting\n",
      "        array will be of complex type, unless the imaginary part is\n",
      "        zero in which case it will be cast to a real type. When `a`\n",
      "        is real the resulting eigenvalues will be real (0 imaginary\n",
      "        part) or occur in conjugate pairs\n",
      "    \n",
      "    v : (..., M, M) array\n",
      "        The normalized (unit \"length\") eigenvectors, such that the\n",
      "        column ``v[:,i]`` is the eigenvector corresponding to the\n",
      "        eigenvalue ``w[i]``.\n",
      "    \n",
      "    Raises\n",
      "    ------\n",
      "    LinAlgError\n",
      "        If the eigenvalue computation does not converge.\n",
      "    \n",
      "    See Also\n",
      "    --------\n",
      "    eigvals : eigenvalues of a non-symmetric array.\n",
      "    \n",
      "    eigh : eigenvalues and eigenvectors of a symmetric or Hermitian\n",
      "           (conjugate symmetric) array.\n",
      "    \n",
      "    eigvalsh : eigenvalues of a symmetric or Hermitian (conjugate symmetric)\n",
      "               array.\n",
      "    \n",
      "    Notes\n",
      "    -----\n",
      "    \n",
      "    .. versionadded:: 1.8.0\n",
      "    \n",
      "    Broadcasting rules apply, see the `numpy.linalg` documentation for\n",
      "    details.\n",
      "    \n",
      "    This is implemented using the _geev LAPACK routines which compute\n",
      "    the eigenvalues and eigenvectors of general square arrays.\n",
      "    \n",
      "    The number `w` is an eigenvalue of `a` if there exists a vector\n",
      "    `v` such that ``dot(a,v) = w * v``. Thus, the arrays `a`, `w`, and\n",
      "    `v` satisfy the equations ``dot(a[:,:], v[:,i]) = w[i] * v[:,i]``\n",
      "    for :math:`i \\in \\{0,...,M-1\\}`.\n",
      "    \n",
      "    The array `v` of eigenvectors may not be of maximum rank, that is, some\n",
      "    of the columns may be linearly dependent, although round-off error may\n",
      "    obscure that fact. If the eigenvalues are all different, then theoretically\n",
      "    the eigenvectors are linearly independent. Likewise, the (complex-valued)\n",
      "    matrix of eigenvectors `v` is unitary if the matrix `a` is normal, i.e.,\n",
      "    if ``dot(a, a.H) = dot(a.H, a)``, where `a.H` denotes the conjugate\n",
      "    transpose of `a`.\n",
      "    \n",
      "    Finally, it is emphasized that `v` consists of the *right* (as in\n",
      "    right-hand side) eigenvectors of `a`.  A vector `y` satisfying\n",
      "    ``dot(y.T, a) = z * y.T`` for some number `z` is called a *left*\n",
      "    eigenvector of `a`, and, in general, the left and right eigenvectors\n",
      "    of a matrix are not necessarily the (perhaps conjugate) transposes\n",
      "    of each other.\n",
      "    \n",
      "    References\n",
      "    ----------\n",
      "    G. Strang, *Linear Algebra and Its Applications*, 2nd Ed., Orlando, FL,\n",
      "    Academic Press, Inc., 1980, Various pp.\n",
      "    \n",
      "    Examples\n",
      "    --------\n",
      "    >>> from numpy import linalg as LA\n",
      "    \n",
      "    (Almost) trivial example with real e-values and e-vectors.\n",
      "    \n",
      "    >>> w, v = LA.eig(np.diag((1, 2, 3)))\n",
      "    >>> w; v\n",
      "    array([ 1.,  2.,  3.])\n",
      "    array([[ 1.,  0.,  0.],\n",
      "           [ 0.,  1.,  0.],\n",
      "           [ 0.,  0.,  1.]])\n",
      "    \n",
      "    Real matrix possessing complex e-values and e-vectors; note that the\n",
      "    e-values are complex conjugates of each other.\n",
      "    \n",
      "    >>> w, v = LA.eig(np.array([[1, -1], [1, 1]]))\n",
      "    >>> w; v\n",
      "    array([ 1. + 1.j,  1. - 1.j])\n",
      "    array([[ 0.70710678+0.j        ,  0.70710678+0.j        ],\n",
      "           [ 0.00000000-0.70710678j,  0.00000000+0.70710678j]])\n",
      "    \n",
      "    Complex-valued matrix with real e-values (but complex-valued e-vectors);\n",
      "    note that a.conj().T = a, i.e., a is Hermitian.\n",
      "    \n",
      "    >>> a = np.array([[1, 1j], [-1j, 1]])\n",
      "    >>> w, v = LA.eig(a)\n",
      "    >>> w; v\n",
      "    array([  2.00000000e+00+0.j,   5.98651912e-36+0.j]) # i.e., {2, 0}\n",
      "    array([[ 0.00000000+0.70710678j,  0.70710678+0.j        ],\n",
      "           [ 0.70710678+0.j        ,  0.00000000+0.70710678j]])\n",
      "    \n",
      "    Be careful about round-off error!\n",
      "    \n",
      "    >>> a = np.array([[1 + 1e-9, 0], [0, 1 - 1e-9]])\n",
      "    >>> # Theor. e-values are 1 +/- 1e-9\n",
      "    >>> w, v = LA.eig(a)\n",
      "    >>> w; v\n",
      "    array([ 1.,  1.])\n",
      "    array([[ 1.,  0.],\n",
      "           [ 0.,  1.]])\n",
      "\n"
     ]
    }
   ],
   "source": [
    "help(np.cov)\n",
    "help(np.linalg.eig)"
   ]
  },
  {
   "cell_type": "markdown",
   "metadata": {},
   "source": [
    "データセットを新しい特徴部分空間に圧縮するため、データに含まれる大半の情報（分散）を含んでいる固有ベクトル（主成分）だけを選択する"
   ]
  },
  {
   "cell_type": "code",
   "execution_count": 19,
   "metadata": {
    "collapsed": false
   },
   "outputs": [
    {
     "name": "stdout",
     "output_type": "stream",
     "text": [
      "[ 0.37329648  0.56148574  0.67045365  0.74769754  0.81248349  0.85840362\n",
      "  0.89827298  0.92349212  0.94607393  0.96438317  0.98073654  0.99357924\n",
      "  1.        ]\n"
     ]
    }
   ],
   "source": [
    "tot = sum(eigen_vals)\n",
    "var_exp = [(i / tot) for i in sorted(eigen_vals, reverse=True)]\n",
    "cum_var_exp = np.cumsum(var_exp)\n",
    "print(cum_var_exp)"
   ]
  },
  {
   "cell_type": "code",
   "execution_count": 20,
   "metadata": {
    "collapsed": false
   },
   "outputs": [
    {
     "data": {
      "image/png": "[encoded data removed]",
      "text/plain": [
       "<matplotlib.figure.Figure at 0x10d30aeb8>"
      ]
     },
     "metadata": {},
     "output_type": "display_data"
    }
   ],
   "source": [
    "import matplotlib.pyplot as plt\n",
    "\n",
    "\n",
    "plt.bar(range(1, 14), var_exp, alpha=0.5, align='center',\n",
    "        label='individual explained variance')\n",
    "plt.step(range(1, 14), cum_var_exp, where='mid',\n",
    "         label='cumulative explained variance')\n",
    "plt.ylabel('Explained variance ratio')\n",
    "plt.xlabel('Principal components')\n",
    "plt.legend(loc='best')\n",
    "plt.tight_layout()\n",
    "plt.show()"
   ]
  },
  {
   "cell_type": "markdown",
   "metadata": {},
   "source": [
    "上位2つの主成分で全体の約60%を占めていることがわかる"
   ]
  },
  {
   "cell_type": "markdown",
   "metadata": {},
   "source": [
    "### 5.1.2 特徴変換\n",
    "---"
   ]
  },
  {
   "cell_type": "markdown",
   "metadata": {},
   "source": [
    "Wineデータセットを新しい主成分軸に変換する\n",
    "- 固有値の大きいものから順に固有対を並べ替え、選択された固有ベクトルから射影行列を生成する\n",
    "- 求めた射影行列を使ってデータをより低い次元の部分空間に変換する"
   ]
  },
  {
   "cell_type": "markdown",
   "metadata": {},
   "source": [
    "まず、固有値の大きいものから順に固有対を並べ替える"
   ]
  },
  {
   "cell_type": "code",
   "execution_count": 24,
   "metadata": {
    "collapsed": false
   },
   "outputs": [
    {
     "name": "stdout",
     "output_type": "stream",
     "text": [
      "[(4.8923083032737456, array([ 0.14669811, -0.24224554, -0.02993442, -0.25519002,  0.12079772,\n",
      "        0.38934455,  0.42326486, -0.30634956,  0.30572219, -0.09869191,\n",
      "        0.30032535,  0.36821154,  0.29259713])), (2.4663503157592297, array([ 0.50417079,  0.24216889,  0.28698484, -0.06468718,  0.22995385,\n",
      "        0.09363991,  0.01088622,  0.01870216,  0.03040352,  0.54527081,\n",
      "       -0.27924322, -0.174365  ,  0.36315461])), (1.4280997275048453, array([-0.11723515,  0.14994658,  0.65639439,  0.58428234,  0.08226275,\n",
      "        0.18080442,  0.14295933,  0.17223475,  0.1583621 , -0.14242171,\n",
      "        0.09323872,  0.19607741, -0.09731711])), (1.0123346209044966, array([ 0.20625461,  0.1304893 ,  0.01515363, -0.09042209, -0.83912835,\n",
      "        0.19317948,  0.14045955,  0.33733262, -0.1147529 ,  0.07878571,\n",
      "        0.02417403,  0.18402864,  0.05676778])), (0.84906459334502493, array([-0.18781595,  0.56863978, -0.29920943, -0.04124995, -0.02719713,\n",
      "        0.14064543,  0.09268665, -0.08584168,  0.56510524,  0.01323461,\n",
      "       -0.37261081,  0.08937967, -0.21752948])), (0.60181514342298892, array([-0.14885132, -0.26905276, -0.09333861, -0.10134239,  0.11256735,\n",
      "        0.01222488, -0.05503452,  0.69534088,  0.49835441,  0.15945216,\n",
      "        0.21651535, -0.23517236,  0.10562138])), (0.5225154620639969, array([-0.17926366, -0.59263673,  0.06073346,  0.25032387, -0.28524056,\n",
      "        0.05314553,  0.07989941, -0.29737172,  0.20251913,  0.39736411,\n",
      "       -0.38465475, -0.08629033, -0.13029829])), (0.33051429173094032, array([-0.40305492, -0.10183371,  0.35184142, -0.50045728,  0.08373917,\n",
      "        0.13511146,  0.00336017,  0.19012076, -0.17602994, -0.21493067,\n",
      "       -0.51725944,  0.13645604,  0.16775843])), (0.29595018365934705, array([-0.41719758,  0.21710149,  0.12854985,  0.04733441, -0.27891878,\n",
      "       -0.28098565, -0.0391443 , -0.27862219,  0.14853946, -0.00410241,\n",
      "        0.19781412, -0.23813815,  0.63735021])), (0.23995530477949098, array([  4.13320786e-04,  -8.78560762e-02,  -4.52518598e-01,\n",
      "         4.86169765e-01,   1.14764951e-01,   9.45645138e-02,\n",
      "        -1.00444099e-01,   2.00128778e-01,  -1.39942067e-01,\n",
      "        -1.15349466e-01,  -3.02254353e-01,   3.18414303e-01,\n",
      "         5.03247839e-01])), (0.21432211869872342, array([ 0.40356719, -0.152475  ,  0.16837606, -0.06709029, -0.10239686,\n",
      "       -0.61860015, -0.13968028,  0.00163324,  0.38856849, -0.3083459 ,\n",
      "       -0.20045639,  0.28410033,  0.03755468])), (0.16831253504096189, array([ 0.27566086, -0.0813845 , -0.01297513,  0.0989088 , -0.09592977,\n",
      "        0.28389764,  0.11672921, -0.03965663,  0.08606027, -0.57165189,\n",
      "       -0.19884453, -0.65086971,  0.07123771])), (0.084148456726794302, array([-0.05546872,  0.03327316, -0.10061857,  0.05616586,  0.09584239,\n",
      "       -0.42126512,  0.8472247 ,  0.1662568 , -0.16619747,  0.03961736,\n",
      "       -0.10538369, -0.09950556, -0.01606618]))]\n"
     ]
    }
   ],
   "source": [
    "# Make a list of (eigenvalue, eigenvector) tuples\n",
    "eigen_pairs = [(np.abs(eigen_vals[i]), eigen_vecs[:, i])\n",
    "               for i in range(len(eigen_vals))]\n",
    "\n",
    "# Sort the (eigenvalue, eigenvector) tuples from high to low\n",
    "eigen_pairs.sort(key=lambda k: k[0], reverse=True)\n",
    "#eigen_pairs.sort(key=lambda k: k[1][0], reverse=True)\n",
    "print(eigen_pairs)\n",
    "\n",
    "# Note: I added the `key=lambda k: k[0]` in the sort call above\n",
    "# just like I used it further below in the LDA section.\n",
    "# This is to avoid problems if there are ties in the eigenvalue\n",
    "# arrays (i.e., the sorting algorithm will only regard the\n",
    "# first element of the tuples, now)."
   ]
  },
  {
   "cell_type": "markdown",
   "metadata": {},
   "source": [
    "次に、最も大きい2つの固有値に対応する2つの固有ベクトルを集める"
   ]
  },
  {
   "cell_type": "markdown",
   "metadata": {},
   "source": [
    "**普通にhstackをするとうまくいかない**"
   ]
  },
  {
   "cell_type": "code",
   "execution_count": 31,
   "metadata": {
    "collapsed": false
   },
   "outputs": [
    {
     "name": "stdout",
     "output_type": "stream",
     "text": [
      "(2, 13)\n",
      "Matrix W:\n",
      " [[ 0.14669811 -0.24224554 -0.02993442 -0.25519002  0.12079772  0.38934455\n",
      "   0.42326486 -0.30634956  0.30572219 -0.09869191  0.30032535  0.36821154\n",
      "   0.29259713]\n",
      " [ 0.50417079  0.24216889  0.28698484 -0.06468718  0.22995385  0.09363991\n",
      "   0.01088622  0.01870216  0.03040352  0.54527081 -0.27924322 -0.174365\n",
      "   0.36315461]]\n"
     ]
    }
   ],
   "source": [
    "\n",
    "w = np.vstack((eigen_pairs[0][1],\n",
    "               eigen_pairs[1][1]))\n",
    "print(w.shape)\n",
    "print('Matrix W:\\n', w)"
   ]
  },
  {
   "cell_type": "markdown",
   "metadata": {},
   "source": [
    "**np.newaxisを使い明示的に列ベクトルを生成する必要がある**"
   ]
  },
  {
   "cell_type": "code",
   "execution_count": 32,
   "metadata": {
    "collapsed": false
   },
   "outputs": [
    {
     "name": "stdout",
     "output_type": "stream",
     "text": [
      "Matrix W:\n",
      " [[ 0.14669811  0.50417079]\n",
      " [-0.24224554  0.24216889]\n",
      " [-0.02993442  0.28698484]\n",
      " [-0.25519002 -0.06468718]\n",
      " [ 0.12079772  0.22995385]\n",
      " [ 0.38934455  0.09363991]\n",
      " [ 0.42326486  0.01088622]\n",
      " [-0.30634956  0.01870216]\n",
      " [ 0.30572219  0.03040352]\n",
      " [-0.09869191  0.54527081]\n",
      " [ 0.30032535 -0.27924322]\n",
      " [ 0.36821154 -0.174365  ]\n",
      " [ 0.29259713  0.36315461]]\n"
     ]
    }
   ],
   "source": [
    "w = np.hstack((eigen_pairs[0][1][:, np.newaxis],\n",
    "               eigen_pairs[1][1][:, np.newaxis]))\n",
    "print('Matrix W:\\n', w)"
   ]
  },
  {
   "cell_type": "markdown",
   "metadata": {},
   "source": [
    "得られた上位2つの固有ベクトルから作成された13×2次元の射影行列**_W_**を使って、サンプル**_x_**をPCAの部分空間に変換し、2つの新しい特徴量からなる2次元のサンプルベクトル**_x'_**を生成する"
   ]
  },
  {
   "cell_type": "code",
   "execution_count": 33,
   "metadata": {
    "collapsed": false
   },
   "outputs": [
    {
     "data": {
      "text/plain": [
       "array([ 2.59891628,  0.00484089])"
      ]
     },
     "execution_count": 33,
     "metadata": {},
     "output_type": "execute_result"
    }
   ],
   "source": [
    "X_train_std[0].dot(w)"
   ]
  },
  {
   "cell_type": "markdown",
   "metadata": {},
   "source": [
    "行列の積を計算することにより、124×13次元のトレーニングデータセット全体を2つの主成分に変換する"
   ]
  },
  {
   "cell_type": "code",
   "execution_count": 34,
   "metadata": {
    "collapsed": false
   },
   "outputs": [
    {
     "data": {
      "image/png": "[encoded data removed]",
      "text/plain": [
       "<matplotlib.figure.Figure at 0x10d530208>"
      ]
     },
     "metadata": {},
     "output_type": "display_data"
    }
   ],
   "source": [
    "X_train_pca = X_train_std.dot(w)\n",
    "colors = ['r', 'b', 'g']\n",
    "markers = ['s', 'x', 'o']\n",
    "\n",
    "for l, c, m in zip(np.unique(y_train), colors, markers):\n",
    "    plt.scatter(X_train_pca[y_train == l, 0], \n",
    "                X_train_pca[y_train == l, 1], \n",
    "                c=c, label=l, marker=m)\n",
    "\n",
    "plt.xlabel('PC 1')\n",
    "plt.ylabel('PC 2')\n",
    "plt.legend(loc='lower left')\n",
    "plt.tight_layout()\n",
    "plt.show()"
   ]
  },
  {
   "cell_type": "markdown",
   "metadata": {},
   "source": [
    "X軸、Y軸のばらつきを見ると、1つ目の主成分であるX軸の方が2つ目の主成分であるY軸よりもばらついている"
   ]
  },
  {
   "cell_type": "markdown",
   "metadata": {},
   "source": [
    "### 5.1.3 scikit-learnの主成分分析\n",
    "---"
   ]
  },
  {
   "cell_type": "markdown",
   "metadata": {},
   "source": [
    "scikit-learn のPCAを用いて5.1.2と同様のことを行う"
   ]
  },
  {
   "cell_type": "code",
   "execution_count": 35,
   "metadata": {
    "collapsed": false
   },
   "outputs": [
    {
     "data": {
      "text/plain": [
       "array([ 0.37329648,  0.18818926,  0.10896791,  0.07724389,  0.06478595,\n",
       "        0.04592014,  0.03986936,  0.02521914,  0.02258181,  0.01830924,\n",
       "        0.01635336,  0.01284271,  0.00642076])"
      ]
     },
     "execution_count": 35,
     "metadata": {},
     "output_type": "execute_result"
    }
   ],
   "source": [
    "from sklearn.decomposition import PCA\n",
    "\n",
    "pca = PCA()\n",
    "X_train_pca = pca.fit_transform(X_train_std)\n",
    "pca.explained_variance_ratio_"
   ]
  },
  {
   "cell_type": "code",
   "execution_count": 53,
   "metadata": {
    "collapsed": false
   },
   "outputs": [
    {
     "name": "stdout",
     "output_type": "stream",
     "text": [
      "Help on class PCA in module sklearn.decomposition.pca:\n",
      "\n",
      "class PCA(sklearn.decomposition.base._BasePCA)\n",
      " |  Principal component analysis (PCA)\n",
      " |  \n",
      " |  Linear dimensionality reduction using Singular Value Decomposition of the\n",
      " |  data to project it to a lower dimensional space.\n",
      " |  \n",
      " |  It uses the LAPACK implementation of the full SVD or a randomized truncated\n",
      " |  SVD by the method of Halko et al. 2009, depending on the shape of the input\n",
      " |  data and the number of components to extract.\n",
      " |  \n",
      " |  It can also use the scipy.sparse.linalg ARPACK implementation of the\n",
      " |  truncated SVD.\n",
      " |  \n",
      " |  Notice that this class does not support sparse input. See\n",
      " |  :class:`TruncatedSVD` for an alternative with sparse data.\n",
      " |  \n",
      " |  Read more in the :ref:`User Guide <PCA>`.\n",
      " |  \n",
      " |  Parameters\n",
      " |  ----------\n",
      " |  n_components : int, float, None or string\n",
      " |      Number of components to keep.\n",
      " |      if n_components is not set all components are kept::\n",
      " |  \n",
      " |          n_components == min(n_samples, n_features)\n",
      " |  \n",
      " |      if n_components == 'mle' and svd_solver == 'full', Minka's MLE is used\n",
      " |      to guess the dimension\n",
      " |      if ``0 < n_components < 1`` and svd_solver == 'full', select the number\n",
      " |      of components such that the amount of variance that needs to be\n",
      " |      explained is greater than the percentage specified by n_components\n",
      " |      n_components cannot be equal to n_features for svd_solver == 'arpack'.\n",
      " |  \n",
      " |  copy : bool (default True)\n",
      " |      If False, data passed to fit are overwritten and running\n",
      " |      fit(X).transform(X) will not yield the expected results,\n",
      " |      use fit_transform(X) instead.\n",
      " |  \n",
      " |  whiten : bool, optional (default False)\n",
      " |      When True (False by default) the `components_` vectors are multiplied\n",
      " |      by the square root of n_samples and then divided by the singular values\n",
      " |      to ensure uncorrelated outputs with unit component-wise variances.\n",
      " |  \n",
      " |      Whitening will remove some information from the transformed signal\n",
      " |      (the relative variance scales of the components) but can sometime\n",
      " |      improve the predictive accuracy of the downstream estimators by\n",
      " |      making their data respect some hard-wired assumptions.\n",
      " |  \n",
      " |  svd_solver : string {'auto', 'full', 'arpack', 'randomized'}\n",
      " |      auto :\n",
      " |          the solver is selected by a default policy based on `X.shape` and\n",
      " |          `n_components`: if the input data is larger than 500x500 and the\n",
      " |          number of components to extract is lower than 80% of the smallest\n",
      " |          dimension of the data, then the more efficient 'randomized'\n",
      " |          method is enabled. Otherwise the exact full SVD is computed and\n",
      " |          optionally truncated afterwards.\n",
      " |      full :\n",
      " |          run exact full SVD calling the standard LAPACK solver via\n",
      " |          `scipy.linalg.svd` and select the components by postprocessing\n",
      " |      arpack :\n",
      " |          run SVD truncated to n_components calling ARPACK solver via\n",
      " |          `scipy.sparse.linalg.svds`. It requires strictly\n",
      " |          0 < n_components < X.shape[1]\n",
      " |      randomized :\n",
      " |          run randomized SVD by the method of Halko et al.\n",
      " |  \n",
      " |      .. versionadded:: 0.18.0\n",
      " |  \n",
      " |  tol : float >= 0, optional (default .0)\n",
      " |      Tolerance for singular values computed by svd_solver == 'arpack'.\n",
      " |  \n",
      " |      .. versionadded:: 0.18.0\n",
      " |  \n",
      " |  iterated_power : int >= 0, or 'auto', (default 'auto')\n",
      " |      Number of iterations for the power method computed by\n",
      " |      svd_solver == 'randomized'.\n",
      " |  \n",
      " |      .. versionadded:: 0.18.0\n",
      " |  \n",
      " |  random_state : int or RandomState instance or None (default None)\n",
      " |      Pseudo Random Number generator seed control. If None, use the\n",
      " |      numpy.random singleton. Used by svd_solver == 'arpack' or 'randomized'.\n",
      " |  \n",
      " |      .. versionadded:: 0.18.0\n",
      " |  \n",
      " |  Attributes\n",
      " |  ----------\n",
      " |  components_ : array, [n_components, n_features]\n",
      " |      Principal axes in feature space, representing the directions of\n",
      " |      maximum variance in the data. The components are sorted by\n",
      " |      ``explained_variance_``.\n",
      " |  \n",
      " |  explained_variance_ : array, [n_components]\n",
      " |      The amount of variance explained by each of the selected components.\n",
      " |  \n",
      " |      .. versionadded:: 0.18\n",
      " |  \n",
      " |  explained_variance_ratio_ : array, [n_components]\n",
      " |      Percentage of variance explained by each of the selected components.\n",
      " |  \n",
      " |      If ``n_components`` is not set then all components are stored and the\n",
      " |      sum of explained variances is equal to 1.0.\n",
      " |  \n",
      " |  mean_ : array, [n_features]\n",
      " |      Per-feature empirical mean, estimated from the training set.\n",
      " |  \n",
      " |      Equal to `X.mean(axis=1)`.\n",
      " |  \n",
      " |  n_components_ : int\n",
      " |      The estimated number of components. When n_components is set\n",
      " |      to 'mle' or a number between 0 and 1 (with svd_solver == 'full') this\n",
      " |      number is estimated from input data. Otherwise it equals the parameter\n",
      " |      n_components, or n_features if n_components is None.\n",
      " |  \n",
      " |  noise_variance_ : float\n",
      " |      The estimated noise covariance following the Probabilistic PCA model\n",
      " |      from Tipping and Bishop 1999. See \"Pattern Recognition and\n",
      " |      Machine Learning\" by C. Bishop, 12.2.1 p. 574 or\n",
      " |      http://www.miketipping.com/papers/met-mppca.pdf. It is required to\n",
      " |      computed the estimated data covariance and score samples.\n",
      " |  \n",
      " |  References\n",
      " |  ----------\n",
      " |  For n_components == 'mle', this class uses the method of `Thomas P. Minka:\n",
      " |  Automatic Choice of Dimensionality for PCA. NIPS 2000: 598-604`\n",
      " |  \n",
      " |  Implements the probabilistic PCA model from:\n",
      " |  M. Tipping and C. Bishop, Probabilistic Principal Component Analysis,\n",
      " |  Journal of the Royal Statistical Society, Series B, 61, Part 3, pp. 611-622\n",
      " |  via the score and score_samples methods.\n",
      " |  See http://www.miketipping.com/papers/met-mppca.pdf\n",
      " |  \n",
      " |  For svd_solver == 'arpack', refer to `scipy.sparse.linalg.svds`.\n",
      " |  \n",
      " |  For svd_solver == 'randomized', see:\n",
      " |  `Finding structure with randomness: Stochastic algorithms\n",
      " |  for constructing approximate matrix decompositions Halko, et al., 2009\n",
      " |  (arXiv:909)`\n",
      " |  `A randomized algorithm for the decomposition of matrices\n",
      " |  Per-Gunnar Martinsson, Vladimir Rokhlin and Mark Tygert`\n",
      " |  \n",
      " |  \n",
      " |  Examples\n",
      " |  --------\n",
      " |  >>> import numpy as np\n",
      " |  >>> from sklearn.decomposition import PCA\n",
      " |  >>> X = np.array([[-1, -1], [-2, -1], [-3, -2], [1, 1], [2, 1], [3, 2]])\n",
      " |  >>> pca = PCA(n_components=2)\n",
      " |  >>> pca.fit(X)\n",
      " |  PCA(copy=True, iterated_power='auto', n_components=2, random_state=None,\n",
      " |    svd_solver='auto', tol=0.0, whiten=False)\n",
      " |  >>> print(pca.explained_variance_ratio_) # doctest: +ELLIPSIS\n",
      " |  [ 0.99244...  0.00755...]\n",
      " |  \n",
      " |  >>> pca = PCA(n_components=2, svd_solver='full')\n",
      " |  >>> pca.fit(X)                 # doctest: +ELLIPSIS +NORMALIZE_WHITESPACE\n",
      " |  PCA(copy=True, iterated_power='auto', n_components=2, random_state=None,\n",
      " |    svd_solver='full', tol=0.0, whiten=False)\n",
      " |  >>> print(pca.explained_variance_ratio_) # doctest: +ELLIPSIS\n",
      " |  [ 0.99244...  0.00755...]\n",
      " |  \n",
      " |  >>> pca = PCA(n_components=1, svd_solver='arpack')\n",
      " |  >>> pca.fit(X)\n",
      " |  PCA(copy=True, iterated_power='auto', n_components=1, random_state=None,\n",
      " |    svd_solver='arpack', tol=0.0, whiten=False)\n",
      " |  >>> print(pca.explained_variance_ratio_) # doctest: +ELLIPSIS\n",
      " |  [ 0.99244...]\n",
      " |  \n",
      " |  See also\n",
      " |  --------\n",
      " |  KernelPCA\n",
      " |  SparsePCA\n",
      " |  TruncatedSVD\n",
      " |  IncrementalPCA\n",
      " |  \n",
      " |  Method resolution order:\n",
      " |      PCA\n",
      " |      sklearn.decomposition.base._BasePCA\n",
      " |      abc.NewBase\n",
      " |      sklearn.base.BaseEstimator\n",
      " |      sklearn.base.TransformerMixin\n",
      " |      builtins.object\n",
      " |  \n",
      " |  Methods defined here:\n",
      " |  \n",
      " |  __init__(self, n_components=None, copy=True, whiten=False, svd_solver='auto', tol=0.0, iterated_power='auto', random_state=None)\n",
      " |      Initialize self.  See help(type(self)) for accurate signature.\n",
      " |  \n",
      " |  fit(self, X, y=None)\n",
      " |      Fit the model with X.\n",
      " |      \n",
      " |      Parameters\n",
      " |      ----------\n",
      " |      X: array-like, shape (n_samples, n_features)\n",
      " |          Training data, where n_samples in the number of samples\n",
      " |          and n_features is the number of features.\n",
      " |      \n",
      " |      Returns\n",
      " |      -------\n",
      " |      self : object\n",
      " |          Returns the instance itself.\n",
      " |  \n",
      " |  fit_transform(self, X, y=None)\n",
      " |      Fit the model with X and apply the dimensionality reduction on X.\n",
      " |      \n",
      " |      Parameters\n",
      " |      ----------\n",
      " |      X : array-like, shape (n_samples, n_features)\n",
      " |          Training data, where n_samples is the number of samples\n",
      " |          and n_features is the number of features.\n",
      " |      \n",
      " |      Returns\n",
      " |      -------\n",
      " |      X_new : array-like, shape (n_samples, n_components)\n",
      " |  \n",
      " |  score(self, X, y=None)\n",
      " |      Return the average log-likelihood of all samples.\n",
      " |      \n",
      " |      See. \"Pattern Recognition and Machine Learning\"\n",
      " |      by C. Bishop, 12.2.1 p. 574\n",
      " |      or http://www.miketipping.com/papers/met-mppca.pdf\n",
      " |      \n",
      " |      Parameters\n",
      " |      ----------\n",
      " |      X: array, shape(n_samples, n_features)\n",
      " |          The data.\n",
      " |      \n",
      " |      Returns\n",
      " |      -------\n",
      " |      ll: float\n",
      " |          Average log-likelihood of the samples under the current model\n",
      " |  \n",
      " |  score_samples(self, X)\n",
      " |      Return the log-likelihood of each sample.\n",
      " |      \n",
      " |      See. \"Pattern Recognition and Machine Learning\"\n",
      " |      by C. Bishop, 12.2.1 p. 574\n",
      " |      or http://www.miketipping.com/papers/met-mppca.pdf\n",
      " |      \n",
      " |      Parameters\n",
      " |      ----------\n",
      " |      X: array, shape(n_samples, n_features)\n",
      " |          The data.\n",
      " |      \n",
      " |      Returns\n",
      " |      -------\n",
      " |      ll: array, shape (n_samples,)\n",
      " |          Log-likelihood of each sample under the current model\n",
      " |  \n",
      " |  ----------------------------------------------------------------------\n",
      " |  Data and other attributes defined here:\n",
      " |  \n",
      " |  __abstractmethods__ = frozenset()\n",
      " |  \n",
      " |  ----------------------------------------------------------------------\n",
      " |  Methods inherited from sklearn.decomposition.base._BasePCA:\n",
      " |  \n",
      " |  get_covariance(self)\n",
      " |      Compute data covariance with the generative model.\n",
      " |      \n",
      " |      ``cov = components_.T * S**2 * components_ + sigma2 * eye(n_features)``\n",
      " |      where  S**2 contains the explained variances, and sigma2 contains the\n",
      " |      noise variances.\n",
      " |      \n",
      " |      Returns\n",
      " |      -------\n",
      " |      cov : array, shape=(n_features, n_features)\n",
      " |          Estimated covariance of data.\n",
      " |  \n",
      " |  get_precision(self)\n",
      " |      Compute data precision matrix with the generative model.\n",
      " |      \n",
      " |      Equals the inverse of the covariance but computed with\n",
      " |      the matrix inversion lemma for efficiency.\n",
      " |      \n",
      " |      Returns\n",
      " |      -------\n",
      " |      precision : array, shape=(n_features, n_features)\n",
      " |          Estimated precision of data.\n",
      " |  \n",
      " |  inverse_transform(self, X, y=None)\n",
      " |      Transform data back to its original space.\n",
      " |      \n",
      " |      In other words, return an input X_original whose transform would be X.\n",
      " |      \n",
      " |      Parameters\n",
      " |      ----------\n",
      " |      X : array-like, shape (n_samples, n_components)\n",
      " |          New data, where n_samples is the number of samples\n",
      " |          and n_components is the number of components.\n",
      " |      \n",
      " |      Returns\n",
      " |      -------\n",
      " |      X_original array-like, shape (n_samples, n_features)\n",
      " |      \n",
      " |      Notes\n",
      " |      -----\n",
      " |      If whitening is enabled, inverse_transform will compute the\n",
      " |      exact inverse operation, which includes reversing whitening.\n",
      " |  \n",
      " |  transform(self, X, y=None)\n",
      " |      Apply dimensionality reduction to X.\n",
      " |      \n",
      " |      X is projected on the first principal components previously extracted\n",
      " |      from a training set.\n",
      " |      \n",
      " |      Parameters\n",
      " |      ----------\n",
      " |      X : array-like, shape (n_samples, n_features)\n",
      " |          New data, where n_samples is the number of samples\n",
      " |          and n_features is the number of features.\n",
      " |      \n",
      " |      Returns\n",
      " |      -------\n",
      " |      X_new : array-like, shape (n_samples, n_components)\n",
      " |      \n",
      " |      Examples\n",
      " |      --------\n",
      " |      \n",
      " |      >>> import numpy as np\n",
      " |      >>> from sklearn.decomposition import IncrementalPCA\n",
      " |      >>> X = np.array([[-1, -1], [-2, -1], [-3, -2], [1, 1], [2, 1], [3, 2]])\n",
      " |      >>> ipca = IncrementalPCA(n_components=2, batch_size=3)\n",
      " |      >>> ipca.fit(X)\n",
      " |      IncrementalPCA(batch_size=3, copy=True, n_components=2, whiten=False)\n",
      " |      >>> ipca.transform(X) # doctest: +SKIP\n",
      " |  \n",
      " |  ----------------------------------------------------------------------\n",
      " |  Methods inherited from sklearn.base.BaseEstimator:\n",
      " |  \n",
      " |  __getstate__(self)\n",
      " |  \n",
      " |  __repr__(self)\n",
      " |      Return repr(self).\n",
      " |  \n",
      " |  __setstate__(self, state)\n",
      " |  \n",
      " |  get_params(self, deep=True)\n",
      " |      Get parameters for this estimator.\n",
      " |      \n",
      " |      Parameters\n",
      " |      ----------\n",
      " |      deep : boolean, optional\n",
      " |          If True, will return the parameters for this estimator and\n",
      " |          contained subobjects that are estimators.\n",
      " |      \n",
      " |      Returns\n",
      " |      -------\n",
      " |      params : mapping of string to any\n",
      " |          Parameter names mapped to their values.\n",
      " |  \n",
      " |  set_params(self, **params)\n",
      " |      Set the parameters of this estimator.\n",
      " |      \n",
      " |      The method works on simple estimators as well as on nested objects\n",
      " |      (such as pipelines). The latter have parameters of the form\n",
      " |      ``<component>__<parameter>`` so that it's possible to update each\n",
      " |      component of a nested object.\n",
      " |      \n",
      " |      Returns\n",
      " |      -------\n",
      " |      self\n",
      " |  \n",
      " |  ----------------------------------------------------------------------\n",
      " |  Data descriptors inherited from sklearn.base.BaseEstimator:\n",
      " |  \n",
      " |  __dict__\n",
      " |      dictionary for instance variables (if defined)\n",
      " |  \n",
      " |  __weakref__\n",
      " |      list of weak references to the object (if defined)\n",
      "\n"
     ]
    }
   ],
   "source": [
    "help(PCA)"
   ]
  },
  {
   "cell_type": "code",
   "execution_count": 36,
   "metadata": {
    "collapsed": false
   },
   "outputs": [
    {
     "data": {
      "image/png": "[encoded data removed]",
      "text/plain": [
       "<matplotlib.figure.Figure at 0x10ddb4fd0>"
      ]
     },
     "metadata": {},
     "output_type": "display_data"
    }
   ],
   "source": [
    "plt.bar(range(1, 14), pca.explained_variance_ratio_, alpha=0.5, align='center')\n",
    "plt.step(range(1, 14), np.cumsum(pca.explained_variance_ratio_), where='mid')\n",
    "plt.ylabel('Explained variance ratio')\n",
    "plt.xlabel('Principal components')\n",
    "plt.show()"
   ]
  },
  {
   "cell_type": "markdown",
   "metadata": {},
   "source": [
    "Wineデータセットでscikit-learnのPCAクラスを使用し、ロジスティック回帰を使って変換後のサンプルを分類する"
   ]
  },
  {
   "cell_type": "code",
   "execution_count": 43,
   "metadata": {
    "collapsed": true
   },
   "outputs": [],
   "source": [
    "pca = PCA(n_components=2)\n",
    "X_train_pca = pca.fit_transform(X_train_std)\n",
    "X_test_pca = pca.transform(X_test_std)"
   ]
  },
  {
   "cell_type": "code",
   "execution_count": 44,
   "metadata": {
    "collapsed": false
   },
   "outputs": [
    {
     "data": {
      "image/png": "[encoded data removed]",
      "text/plain": [
       "<matplotlib.figure.Figure at 0x10dfd2780>"
      ]
     },
     "metadata": {},
     "output_type": "display_data"
    }
   ],
   "source": [
    "plt.scatter(X_train_pca[:, 0], X_train_pca[:, 1])\n",
    "plt.xlabel('PC 1')\n",
    "plt.ylabel('PC 2')\n",
    "plt.show()"
   ]
  },
  {
   "cell_type": "markdown",
   "metadata": {},
   "source": [
    "第2章で定義した決定領域プロット関数"
   ]
  },
  {
   "cell_type": "code",
   "execution_count": 45,
   "metadata": {
    "collapsed": true
   },
   "outputs": [],
   "source": [
    "from matplotlib.colors import ListedColormap\n",
    "\n",
    "def plot_decision_regions(X, y, classifier, resolution=0.02):\n",
    "\n",
    "    # setup marker generator and color map\n",
    "    markers = ('s', 'x', 'o', '^', 'v')\n",
    "    colors = ('red', 'blue', 'lightgreen', 'gray', 'cyan')\n",
    "    cmap = ListedColormap(colors[:len(np.unique(y))])\n",
    "\n",
    "    # plot the decision surface\n",
    "    x1_min, x1_max = X[:, 0].min() - 1, X[:, 0].max() + 1\n",
    "    x2_min, x2_max = X[:, 1].min() - 1, X[:, 1].max() + 1\n",
    "    xx1, xx2 = np.meshgrid(np.arange(x1_min, x1_max, resolution),\n",
    "                           np.arange(x2_min, x2_max, resolution))\n",
    "    Z = classifier.predict(np.array([xx1.ravel(), xx2.ravel()]).T)\n",
    "    Z = Z.reshape(xx1.shape)\n",
    "    plt.contourf(xx1, xx2, Z, alpha=0.4, cmap=cmap)\n",
    "    plt.xlim(xx1.min(), xx1.max())\n",
    "    plt.ylim(xx2.min(), xx2.max())\n",
    "\n",
    "    # plot class samples\n",
    "    for idx, cl in enumerate(np.unique(y)):\n",
    "        plt.scatter(x=X[y == cl, 0], y=X[y == cl, 1],\n",
    "                    alpha=0.8, c=cmap(idx),\n",
    "                    marker=markers[idx], label=cl)"
   ]
  },
  {
   "cell_type": "markdown",
   "metadata": {},
   "source": [
    "ロジスティック回帰を行う"
   ]
  },
  {
   "cell_type": "code",
   "execution_count": 46,
   "metadata": {
    "collapsed": true
   },
   "outputs": [],
   "source": [
    "from sklearn.linear_model import LogisticRegression\n",
    "\n",
    "lr = LogisticRegression()\n",
    "lr = lr.fit(X_train_pca, y_train)"
   ]
  },
  {
   "cell_type": "code",
   "execution_count": 47,
   "metadata": {
    "collapsed": false
   },
   "outputs": [
    {
     "data": {
      "image/png": "[encoded data removed]",
      "text/plain": [
       "<matplotlib.figure.Figure at 0x10df9cdd8>"
      ]
     },
     "metadata": {},
     "output_type": "display_data"
    }
   ],
   "source": [
    "plot_decision_regions(X_train_pca, y_train, classifier=lr)\n",
    "plt.xlabel('PC 1')\n",
    "plt.ylabel('PC 2')\n",
    "plt.legend(loc='lower left')\n",
    "plt.tight_layout()\n",
    "plt.show()"
   ]
  },
  {
   "cell_type": "code",
   "execution_count": null,
   "metadata": {
    "collapsed": true
   },
   "outputs": [],
   "source": []
  }
 ],
 "metadata": {
  "kernelspec": {
   "display_name": "Python 3",
   "language": "python",
   "name": "python3"
  },
  "language_info": {
   "codemirror_mode": {
    "name": "ipython",
    "version": 3
   },
   "file_extension": ".py",
   "mimetype": "text/x-python",
   "name": "python",
   "nbconvert_exporter": "python",
   "pygments_lexer": "ipython3",
   "version": "3.5.1"
  }
 },
 "nbformat": 4,
 "nbformat_minor": 2
}
