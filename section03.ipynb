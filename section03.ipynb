{
 "cells": [
  {
   "cell_type": "markdown",
   "metadata": {},
   "source": [
    "# 3章 分類問題 -- 機械学習ライブラリscikit-learn の活用  \n",
    "\n",
    "主にすること \n",
    "* よく使用されている分類アルゴリズムの概念  \n",
    "* scikit-learn 機械学習ライブラリの使用法  \n",
    "* 機械学習アルゴリズムを選択するときに生じる疑問 "
   ]
  },
  {
   "cell_type": "markdown",
   "metadata": {},
   "source": [
    "## 3.1 分類アルゴリズムの選択  \n",
    "1. 特徴量を選択する \n",
    "2. 性能指標を選択する  (何で性能をはかるか？プレシジョンとリコール，目的をきめろ！)\n",
    "3. 分類器と最適化アルゴリズムを選択する  \n",
    "4. モデルの性能を評価する\n",
    "5. アルゴリズムを調整する"
   ]
  },
  {
   "cell_type": "markdown",
   "metadata": {},
   "source": [
    " ## 3.2 scikit-learn 活用へのファーストステップ "
   ]
  },
  {
   "cell_type": "code",
   "execution_count": 3,
   "metadata": {
    "collapsed": false
   },
   "outputs": [
    {
     "name": "stdout",
     "output_type": "stream",
     "text": [
      "Class labels: [0 1 2]\n"
     ]
    }
   ],
   "source": [
    "from sklearn import datasets\n",
    "import numpy as np\n",
    "import pandas as pd\n",
    "iris = datasets.load_iris()\n",
    "#print(iris.feature_names)\n",
    "#print(iris.data)\n",
    "df = pd.DataFrame(iris.data,columns=iris.feature_names)\n",
    "#print(iris.data)\n",
    "X = iris.data[:,[2,3]]\n",
    "y = iris.target\n",
    "df['target'] = y\n",
    "print(\"Class labels:\",np.unique(y))"
   ]
  },
  {
   "cell_type": "code",
   "execution_count": 8,
   "metadata": {
    "collapsed": false
   },
   "outputs": [],
   "source": [
    "from sklearn.cross_validation import train_test_split\n",
    "X_train,X_test,y_train,y_test = train_test_split(X,y, test_size=0.3)"
   ]
  },
  {
   "cell_type": "markdown",
   "metadata": {},
   "source": [
    "<特徴量のスケーリングを行う>\n",
    "平均と標準偏差を求めて，それを用いて標準化"
   ]
  },
  {
   "cell_type": "code",
   "execution_count": 9,
   "metadata": {
    "collapsed": false
   },
   "outputs": [
    {
     "data": {
      "image/png": "[encoded data removed]",
      "text/plain": [
       "<matplotlib.figure.Figure at 0x10a500cc0>"
      ]
     },
     "metadata": {},
     "output_type": "display_data"
    }
   ],
   "source": [
    "from sklearn.preprocessing import StandardScaler\n",
    "sc = StandardScaler()\n",
    "sc.fit(X_train)\n",
    "\n",
    "X_train_std = sc.transform(X_train)\n",
    "X_test_std = sc.transform(X_test)\n",
    "\n",
    "import matplotlib.pyplot as plt\n",
    "plt.scatter(X_train_std[:,0],X_train_std[:,1])\n",
    "plt.show()"
   ]
  },
  {
   "cell_type": "code",
   "execution_count": 55,
   "metadata": {
    "collapsed": false
   },
   "outputs": [
    {
     "data": {
      "text/plain": [
       "Perceptron(alpha=0.0001, class_weight=None, eta0=0.1, fit_intercept=True,\n",
       "      n_iter=40, n_jobs=1, penalty=None, random_state=0, shuffle=True,\n",
       "      verbose=0, warm_start=False)"
      ]
     },
     "execution_count": 55,
     "metadata": {},
     "output_type": "execute_result"
    }
   ],
   "source": [
    "from sklearn.linear_model import Perceptron\n",
    "ppn = Perceptron(n_iter=40, eta0= 0.1, random_state=0,shuffle=True)\n",
    "ppn.fit(X_train_std,y_train)"
   ]
  },
  {
   "cell_type": "markdown",
   "metadata": {},
   "source": [
    "### 工夫されているところ \n",
    "* エポックごとにトレーニングデータセットの並び替えを再現できるよう，random_state パラメータを使用"
   ]
  },
  {
   "cell_type": "code",
   "execution_count": 58,
   "metadata": {
    "collapsed": false
   },
   "outputs": [
    {
     "name": "stdout",
     "output_type": "stream",
     "text": [
      "[0 0 1 0 2 1 2 2 0 0 1 1 0 2 0 0 1 0 2 1 2 1 0 2 1 0 0 1 0 1 0 2 1 0 0 1 1\n",
      " 0 0 1 0 0 1 0 1]\n",
      "[0 1 1 0 2 1 2 2 0 0 1 1 0 2 0 0 1 0 2 1 2 1 0 2 1 0 0 1 0 1 0 2 1 0 0 1 1\n",
      " 0 0 1 0 0 2 0 1]\n",
      "Misclassified samples: 2\n"
     ]
    }
   ],
   "source": [
    "y_pred = ppn.predict(X_test_std)\n",
    "print(y_pred)\n",
    "print(y_test)\n",
    "print('Misclassified samples: %d' % (y_test != y_pred).sum())"
   ]
  },
  {
   "cell_type": "markdown",
   "metadata": {},
   "source": [
    "過学習の検出と防止に役立つ方法は第5章で説明 \n"
   ]
  },
  {
   "cell_type": "code",
   "execution_count": null,
   "metadata": {
    "collapsed": true
   },
   "outputs": [],
   "source": []
  },
  {
   "cell_type": "markdown",
   "metadata": {},
   "source": [
    " ## 3.3 ロジスティック回帰を使ったクラスの確率のモデリング "
   ]
  },
  {
   "cell_type": "markdown",
   "metadata": {},
   "source": [
    "パーセプトロンの学習規則の問題点  \n",
    "* クラスを完全に線形分離できない場合は決して収束しない  \n",
    "→ これを解決する方法として，ロジスティック回帰について見ていく  \n",
    "名前とは裏腹に回帰ではなく分類のためのモデル"
   ]
  },
  {
   "cell_type": "markdown",
   "metadata": {},
   "source": [
    "### 3.3.1 ロジスティック回帰の直感的知識と条件付き確率 "
   ]
  },
  {
   "cell_type": "markdown",
   "metadata": {},
   "source": [
    "ロジスティック回帰は分類モデルであり，非常に実装しやすいものの，高い性能が発揮されるのは線形分類可能なクラスに対してのみである． \n",
    "\n",
    "オッズ比 : $\\frac{p}{(1-p)}$     \n",
    "事象の起こりやすさを表す \n",
    "\n",
    "$p$を**正事象** といい，予測したい事象を表す  \n",
    "ロジット関数  \n",
    "\\begin{equation}\n",
    "{\\rm logit}(p) = \\log \\frac{p}{(1-p)}\n",
    "\\end{equation}\n",
    "\n",
    "ロジット関数は0よりも大きく1よりも小さい範囲の入力値を受け取り，実数値を返す．\n",
    "この関数を使って，特徴量の値と対数オッズの間の線形関係を表すことができる．\n",
    "\\begin{equation}\n",
    "{\\rm logit}(p(y=1|x)) = w_0x_0+w_1x_1 + \\cdots + w_m x_m = \\sum_{i=0}^{m}w_i x_i = \\vec{w}^T \\vec{x}\n",
    "\\end{equation}"
   ]
  },
  {
   "cell_type": "markdown",
   "metadata": {
    "collapsed": true
   },
   "source": []
  },
  {
   "cell_type": "code",
   "execution_count": null,
   "metadata": {
    "collapsed": true
   },
   "outputs": [],
   "source": []
  }
 ],
 "metadata": {
  "kernelspec": {
   "display_name": "Python 3",
   "language": "python",
   "name": "python3"
  },
  "language_info": {
   "codemirror_mode": {
    "name": "ipython",
    "version": 3
   },
   "file_extension": ".py",
   "mimetype": "text/x-python",
   "name": "python",
   "nbconvert_exporter": "python",
   "pygments_lexer": "ipython3",
   "version": "3.5.1"
  }
 },
 "nbformat": 4,
 "nbformat_minor": 2
}
