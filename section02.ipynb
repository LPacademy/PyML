{
 "cells": [
  {
   "cell_type": "markdown",
   "metadata": {
    "deletable": true,
    "editable": true
   },
   "source": [
    "# 第2章 分類問題 （三好） 2017-0204\n",
    "## -- 機械学習アルゴリズムのトレーニング"
   ]
  },
  {
   "cell_type": "markdown",
   "metadata": {
    "collapsed": true,
    "deletable": true,
    "editable": true
   },
   "source": [
    "主にやること  \n",
    "・パーセプトロン  \n",
    "・ADALINE (Adaptive Linear Neuron)  \n",
    "を分類問題に適用\n",
    "\n",
    "[用いるデータ]  \n",
    "Iris データセット\n",
    "\n",
    "<img src=\"./picture/iris.jpeg\">\n",
    "\n",
    "***"
   ]
  },
  {
   "cell_type": "markdown",
   "metadata": {
    "deletable": true,
    "editable": true
   },
   "source": [
    "## 2.1 ニューロンの話  \n",
    "初期の機械学習について\n",
    "\n",
    "活性化関数 $\\phi(z)$：１（陽性クラス），０（陰性クラス）  \n",
    "\n",
    "$z = w_0 x_0 + w_1 x_1 + \\cdots +w_m x_m = \\vec{w}^T \\vec{x} $ \n",
    "\n",
    "**要素還元主義的なアイディア**:  \n",
    "複雑な事物をそれを構成する要素に分解し，個々の要素の性質や振る舞いを理解することにより，全体の性質や振る舞いを\n",
    "理解できるとする考え方"
   ]
  },
  {
   "cell_type": "markdown",
   "metadata": {
    "deletable": true,
    "editable": true
   },
   "source": [
    "___\n",
    "**パーセプトロンの初期の学習規則**\n",
    "\n",
    "1. 重みを$0$または値の小さい乱数で初期化\n",
    "2. トレーニングサンプル $x^{i}$ごとに以下の手順を実行\n",
    "    1. 出力値 $\\hat{y}$ を計算する\n",
    "    2. 重みを更新する"
   ]
  },
  {
   "cell_type": "markdown",
   "metadata": {
    "deletable": true,
    "editable": true
   },
   "source": [
    "\\begin{equation}\n",
    "w_j = w_j + \\Delta w_j\n",
    "\\end{equation}\n",
    "\n",
    "\\begin{equation}\n",
    "\\Delta w_j = \\eta(y^{i} - \\hat{y}^{i})x_{j}^i\n",
    "\\end{equation}\n",
    "\n",
    "$\\eta$は学習率，(0~1)   \n",
    "\n",
    "パーセプトロンの収束が保証されるのは，２つのクラスが線形分離可能で学習率が十分に小さい場合に限られる．\n",
    "\n",
    "----"
   ]
  },
  {
   "cell_type": "markdown",
   "metadata": {
    "deletable": true,
    "editable": true
   },
   "source": [
    "## 2.2 パーセプトロンの学習アルゴリズム"
   ]
  },
  {
   "cell_type": "code",
   "execution_count": 10,
   "metadata": {
    "collapsed": true,
    "deletable": true,
    "editable": true
   },
   "outputs": [],
   "source": [
    "import numpy as np"
   ]
  },
  {
   "cell_type": "code",
   "execution_count": 11,
   "metadata": {
    "collapsed": true,
    "deletable": true,
    "editable": true
   },
   "outputs": [],
   "source": [
    "class Perceptron(object):\n",
    "    #default\n",
    "    def __init__(self, eta = 0.01, n_iter = 10):\n",
    "        self.eta = eta\n",
    "        self.n_iter = n_iter\n",
    "        \n",
    "    def fit(self, X, y):\n",
    "        self.w_ = np.ones(1 + X.shape[1])\n",
    "        self.errors_ = []\n",
    "        for _ in range(self.n_iter):\n",
    "            errors = 0\n",
    "            for xi, target in zip(X,y):\n",
    "                update = self.eta*(target - self.predict(xi))\n",
    "                self.w_[1:] += update * (xi)\n",
    "                self.w_[0] += update\n",
    "                errors += int(update !=0.0)\n",
    "            self.errors_.append(errors)\n",
    "        return self\n",
    "    \n",
    "    def net_input(self,X):\n",
    "        return np.dot(X,self.w_[1:]) + self.w_[0]\n",
    "    \n",
    "    def predict(self,X):\n",
    "        return np.where(self.net_input(X) >= 0.0, 1, -1)\n",
    "            "
   ]
  },
  {
   "cell_type": "markdown",
   "metadata": {
    "deletable": true,
    "editable": true
   },
   "source": [
    "np.where(a >=4,1,-1)  \n",
    "4以上のところは1, それ以外は-1"
   ]
  },
  {
   "cell_type": "markdown",
   "metadata": {
    "collapsed": true,
    "deletable": true,
    "editable": true
   },
   "source": [
    "それぞれのパラメータの説明  \n",
    "* eta : 学習率  \n",
    "* n_iter : エポック数  \n",
    "* fit : パーセプトロンの学習規則に従って重みを更新する  \n",
    "* np.dot : $\\omega^{\\top}x$を計算  "
   ]
  },
  {
   "cell_type": "markdown",
   "metadata": {
    "deletable": true,
    "editable": true
   },
   "source": [
    "## 2.3 Iris データセットでパーセプトロンモデルのトレーニング"
   ]
  },
  {
   "cell_type": "markdown",
   "metadata": {
    "deletable": true,
    "editable": true
   },
   "source": [
    "Setosa と Versicolor　の二つの品種クラスを読み込む．\n",
    "ここでは可視化のために「がく片の長さ」と「花びらの長さ」の二つの特徴量のみを対象．"
   ]
  },
  {
   "cell_type": "code",
   "execution_count": 12,
   "metadata": {
    "collapsed": false,
    "deletable": true,
    "editable": true
   },
   "outputs": [
    {
     "data": {
      "text/html": [
       "<div>\n",
       "<table border=\"1\" class=\"dataframe\">\n",
       "  <thead>\n",
       "    <tr style=\"text-align: right;\">\n",
       "      <th></th>\n",
       "      <th>0</th>\n",
       "      <th>1</th>\n",
       "      <th>2</th>\n",
       "      <th>3</th>\n",
       "      <th>4</th>\n",
       "    </tr>\n",
       "  </thead>\n",
       "  <tbody>\n",
       "    <tr>\n",
       "      <th>145</th>\n",
       "      <td>6.7</td>\n",
       "      <td>3.0</td>\n",
       "      <td>5.2</td>\n",
       "      <td>2.3</td>\n",
       "      <td>Iris-virginica</td>\n",
       "    </tr>\n",
       "    <tr>\n",
       "      <th>146</th>\n",
       "      <td>6.3</td>\n",
       "      <td>2.5</td>\n",
       "      <td>5.0</td>\n",
       "      <td>1.9</td>\n",
       "      <td>Iris-virginica</td>\n",
       "    </tr>\n",
       "    <tr>\n",
       "      <th>147</th>\n",
       "      <td>6.5</td>\n",
       "      <td>3.0</td>\n",
       "      <td>5.2</td>\n",
       "      <td>2.0</td>\n",
       "      <td>Iris-virginica</td>\n",
       "    </tr>\n",
       "    <tr>\n",
       "      <th>148</th>\n",
       "      <td>6.2</td>\n",
       "      <td>3.4</td>\n",
       "      <td>5.4</td>\n",
       "      <td>2.3</td>\n",
       "      <td>Iris-virginica</td>\n",
       "    </tr>\n",
       "    <tr>\n",
       "      <th>149</th>\n",
       "      <td>5.9</td>\n",
       "      <td>3.0</td>\n",
       "      <td>5.1</td>\n",
       "      <td>1.8</td>\n",
       "      <td>Iris-virginica</td>\n",
       "    </tr>\n",
       "  </tbody>\n",
       "</table>\n",
       "</div>"
      ],
      "text/plain": [
       "       0    1    2    3               4\n",
       "145  6.7  3.0  5.2  2.3  Iris-virginica\n",
       "146  6.3  2.5  5.0  1.9  Iris-virginica\n",
       "147  6.5  3.0  5.2  2.0  Iris-virginica\n",
       "148  6.2  3.4  5.4  2.3  Iris-virginica\n",
       "149  5.9  3.0  5.1  1.8  Iris-virginica"
      ]
     },
     "execution_count": 12,
     "metadata": {},
     "output_type": "execute_result"
    }
   ],
   "source": [
    "import pandas as pd\n",
    "df = pd.read_csv('https://archive.ics.uci.edu/ml/machine-learning-databases/iris/iris.data', header=None)\n",
    "#df = pd.read_csv('https://archive.ics.uci.edu/ml/machine-learning-databases/iris/iris.data')\n",
    "df.tail()"
   ]
  },
  {
   "cell_type": "markdown",
   "metadata": {
    "deletable": true,
    "editable": true
   },
   "source": [
    "df.tail() 後ろの5個を表示"
   ]
  },
  {
   "cell_type": "markdown",
   "metadata": {
    "deletable": true,
    "editable": true
   },
   "source": [
    "次すること  \n",
    "* 50枚の花に対応する先頭の100個のクラスラベルを抽出  \n",
    "* クラスラベルを1, -1　に変換  \n",
    "* 100 個のトレーニングサンプルの特徴量の列から1 列目と3 列目を抽出  "
   ]
  },
  {
   "cell_type": "code",
   "execution_count": 17,
   "metadata": {
    "collapsed": false,
    "deletable": true,
    "editable": true,
    "scrolled": true
   },
   "outputs": [
    {
     "data": {
      "image/png": "iVBORw0KGgoAAAANSUhEUgAAAecAAAEKCAYAAAAo150IAAAABHNCSVQICAgIfAhkiAAAAAlwSFlz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\n",
      "text/plain": [
       "<matplotlib.figure.Figure at 0x108536e10>"
      ]
     },
     "metadata": {},
     "output_type": "display_data"
    }
   ],
   "source": [
    "import matplotlib.pyplot as plt\n",
    "import numpy as np\n",
    "y = df.ix[0:100,4].values\n",
    "y = np.where(y == 'Iris-setosa',-1,1)\n",
    "X = df.iloc[0:100, [0,2]].values\n",
    "plt.scatter(X[:50,0],X[:50,1], color='red',marker='o',label='setosa')\n",
    "plt.scatter(X[50:100,0],X[50:100,1], color='blue',marker='x',label='versicolor')\n",
    "plt.xlabel('sepal length')\n",
    "plt.ylabel('petal length')\n",
    "plt.legend(loc='upper left')\n",
    "plt.show()\n"
   ]
  },
  {
   "cell_type": "markdown",
   "metadata": {
    "collapsed": true,
    "deletable": true,
    "editable": true
   },
   "source": [
    "### パーセプトロンのトレーニング"
   ]
  },
  {
   "cell_type": "code",
   "execution_count": 14,
   "metadata": {
    "collapsed": false,
    "deletable": true,
    "editable": true
   },
   "outputs": [
    {
     "data": {
      "image/png": "iVBORw0KGgoAAAANSUhEUgAAAXwAAAEKCAYAAAARnO4WAAAABHNCSVQICAgIfAhkiAAAAAlwSFlz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\nRU5ErkJggg==\n",
      "text/plain": [
       "<matplotlib.figure.Figure at 0x10852c748>"
      ]
     },
     "metadata": {},
     "output_type": "display_data"
    },
    {
     "data": {
      "text/plain": [
       "\"\\nplt.plot(range(1,len(ppn_.errors_)+1),ppn.errors_,marker='o')\\nplt.xlabel('Epochs')\\nplt.ylabel('Number of misclassification')\\nplt.show()\\n\""
      ]
     },
     "execution_count": 14,
     "metadata": {},
     "output_type": "execute_result"
    }
   ],
   "source": [
    "ppn = Perceptron(eta=0.01)\n",
    "#print(ppn.eta)\n",
    "\n",
    "ppn.fit(X,y)\n",
    "#print(ppn.fit(X,y).w_) method chain\n",
    "#print(ppn.w_)\n",
    "w = ppn.w_\n",
    "x = np.arange(5)\n",
    "y = -w[1]/w[2]*x -w[1]/w[2]\n",
    "plt.plot(x,y)\n",
    "plt.scatter(X[:50,0],X[:50,1], color='red',marker='o',label='setosa')\n",
    "plt.scatter(X[50:100,0],X[50:100,1], color='blue',marker='x',label='versicolor')\n",
    "plt.xlabel('sepal length')\n",
    "plt.ylabel('petal length')\n",
    "plt.legend(loc='upper left')\n",
    "plt.show()\n",
    "\n",
    "\n",
    "'''\n",
    "plt.plot(range(1,len(ppn_.errors_)+1),ppn.errors_,marker='o')\n",
    "plt.xlabel('Epochs')\n",
    "plt.ylabel('Number of misclassification')\n",
    "plt.show()\n",
    "'''"
   ]
  },
  {
   "cell_type": "markdown",
   "metadata": {
    "deletable": true,
    "editable": true
   },
   "source": [
    "次への課題！グラフがおかしい・・・"
   ]
  },
  {
   "cell_type": "markdown",
   "metadata": {
    "deletable": true,
    "editable": true
   },
   "source": [
    "### 6 epoch ですでに収束，トレーニングサンプルを完全に分類できるようになっている． \n",
    "簡単なプロット関数を実装"
   ]
  },
  {
   "cell_type": "code",
   "execution_count": 6,
   "metadata": {
    "collapsed": true,
    "deletable": true,
    "editable": true
   },
   "outputs": [],
   "source": [
    "from matplotlib.colors import ListedColormap\n",
    "\n",
    "def plot_decision_regions(X, y, classifier, resolution=0.02):\n",
    "    makers = ('s','x','o','^','v')\n",
    "    colors = ('red','blue','lightgreen','gray','cyan')\n",
    "    cmap = ListedColormap(colors[:len(np.unique(y))])\n",
    "    x1_min,x1_max = X[:,0].min()-1,X[:,0].max()+1\n",
    "    x2_min,x2_max = X[:,1].min()-1,X[:,1].max()+1\n",
    "    "
   ]
  },
  {
   "cell_type": "code",
   "execution_count": null,
   "metadata": {
    "collapsed": true,
    "deletable": true,
    "editable": true
   },
   "outputs": [],
   "source": []
  },
  {
   "cell_type": "markdown",
   "metadata": {
    "deletable": true,
    "editable": true
   },
   "source": [
    "### <パーセプトロンの問題点>  \n",
    "パーセプトロンの学習規則が収束するのは２つのクラスを線形超平面によって分割できる場合．\n",
    "完全に分割できない場合は重みはいつまでも更新され続けることになる．\n",
    "→　現実世界は分割できないことが多い！"
   ]
  },
  {
   "cell_type": "markdown",
   "metadata": {
    "collapsed": true,
    "deletable": true,
    "editable": true
   },
   "source": [
    "## 2.4 Adaline は次週・・・(^m^) "
   ]
  },
  {
   "cell_type": "markdown",
<<<<<<< HEAD
   "metadata": {},
   "source": [
    "## 2.4 ADAptive LInear NEuron (ADALINE)  2017/02/11"
=======
   "metadata": {
    "collapsed": true,
    "deletable": true,
    "editable": true
   },
   "source": [
    "## 2.5.1 ADALINEをPythonで実装する"
   ]
  },
  {
   "cell_type": "code",
   "execution_count": 39,
   "metadata": {
    "collapsed": true
   },
   "outputs": [],
   "source": [
    "class AdalineGD(object):\n",
    "    \n",
    "    \n",
    "    def __init__(self, eta=0.01, n_iter=50):\n",
    "        self.eta = eta\n",
    "        self.n_iter = n_iter\n",
    "        \n",
    "    \n",
    "    def fit(self, X, y):\n",
    "        self.w_ = np.zeros(1 + X.shape[1])\n",
    "        self.cost_ = []\n",
    "        for i in range(self.n_iter):\n",
    "            output = self.net_input(X)\n",
    "            errors = (y - output)\n",
    "            self.w_[1:] += self.eta * X.T.dot(errors)\n",
    "            self.w_[0] += self.eta * errors.sum()\n",
    "            cost = (errors**2).sum() / 2.0\n",
    "            self.cost_.append(cost)\n",
    "        return self\n",
    "    \n",
    "    \n",
    "    def net_input(self, X):\n",
    "        return np.dot(X, self.w_[1:] + self.w_[0])\n",
    "    \n",
    "    \n",
    "    def activation(self, X):\n",
    "        return self.net_input(X)\n",
    "    \n",
    "    \n",
    "    def predict(self, X):\n",
    "        return np.where(self.activation(X) >= 0.0, 1, -1)"
>>>>>>> sugawara
   ]
  },
  {
   "cell_type": "markdown",
<<<<<<< HEAD
   "metadata": {
    "collapsed": true
   },
   "source": [
    "コスト関数をリニアに  \n",
    " \n",
    "* パーセプトロン：正解と不正解に完全に分けて，それを最小に\n",
    "\n",
    "* Adaline：正解と不正解をソフトに分類してそれの二乗誤差を計算   "
=======
   "metadata": {},
   "source": [
    "## プロット"
   ]
  },
  {
   "cell_type": "code",
   "execution_count": 35,
   "metadata": {
    "collapsed": true
   },
   "outputs": [],
   "source": [
    "y = df.iloc[0:100, 4].values\n",
    "y = np.where(y == 'Iris-setosa', -1, 1)"
>>>>>>> sugawara
   ]
  },
  {
   "cell_type": "code",
<<<<<<< HEAD
   "execution_count": 15,
=======
   "execution_count": 43,
>>>>>>> sugawara
   "metadata": {
    "collapsed": false
   },
   "outputs": [
    {
<<<<<<< HEAD
     "name": "stdout",
     "output_type": "stream",
     "text": [
      "[[ 1.  1.  2.]\n",
      " [ 1.  3.  4.]]\n"
     ]
    }
   ],
   "source": [
    "import numpy as np\n",
    "X = np.array([[1,2],[3,4]])\n",
    "X = np.append(np.ones([X.shape[0],1]),X,axis=1)\n",
    "print(X)"
=======
     "data": {
      "image/png": "iVBORw0KGgoAAAANSUhEUgAAAfIAAAEWCAYAAACdRBVEAAAABHNCSVQICAgIfAhkiAAAAAlwSFlz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\n",
      "text/plain": [
       "<matplotlib.figure.Figure at 0x10907b6d8>"
      ]
     },
     "metadata": {},
     "output_type": "display_data"
    }
   ],
   "source": [
    "fig, ax = plt.subplots(nrows=1, ncols=2, figsize=(8, 4))\n",
    "ada1 = AdalineGD(n_iter=10, eta=0.01).fit(X, y)\n",
    "ax[0].plot(range(1, len(ada1.cost_)+1), np.log10(ada1.cost_), marker='o')\n",
    "ax[0].set_xlabel('Epochs')\n",
    "ax[0].set_ylabel('log(Sum-squared-error)')\n",
    "ax[0].set_title('Adaline - Learning rate 0.01')\n",
    "ada2 = AdalineGD(n_iter=10, eta=0.0001).fit(X, y)\n",
    "ax[1].plot(range(1, len(ada2.cost_)+1), ada2.cost_, marker='o')\n",
    "ax[1].set_xlabel('Epochs')\n",
    "ax[1].set_ylabel('Sum-squared-error')\n",
    "ax[1].set_title('Adaline - Learning rate 0.0001')\n",
    "plt.show()"
>>>>>>> sugawara
   ]
  },
  {
   "cell_type": "markdown",
   "metadata": {},
   "source": [
<<<<<<< HEAD
    "## 2.6 大規模な機械学習と確率的勾配降下法"
   ]
  },
  {
   "cell_type": "markdown",
   "metadata": {},
   "source": [
    "#### （特徴）トレーニングサンプルごとに段階的に重みを更新する．\n",
    "\n",
    "確率的勾配法の利点  \n",
    "+ 重みの更新頻度がより高く，通常ははるかに高速に収束する\n",
    "+ オンライン学習が可能 \n",
    "ミニバッチ学習による折衷案も\n",
    "\n",
    "毎回のエポックごとにデータセットをシャッフルする"
=======
    " ## 標準化（平均: 0 標準偏差: 1）"
   ]
  },
  {
   "cell_type": "code",
   "execution_count": 44,
   "metadata": {
    "collapsed": true
   },
   "outputs": [],
   "source": [
    "X_std = np.copy(X)\n",
    "X_std[:,0] = (X[:,0] - X[:,0].mean()) / X[:,0].std()\n",
    "X_std[:,1] = (X[:,1] - X[:,1].mean()) / X[:,1].std()"
   ]
  },
  {
   "cell_type": "code",
   "execution_count": 52,
   "metadata": {
    "collapsed": false
   },
   "outputs": [
    {
     "ename": "AttributeError",
     "evalue": "module 'numpy' has no attribute 'arrange'",
     "output_type": "error",
     "traceback": [
      "\u001b[0;31m---------------------------------------------------------------------------\u001b[0m",
      "\u001b[0;31mAttributeError\u001b[0m                            Traceback (most recent call last)",
      "\u001b[0;32m<ipython-input-52-3a9a5070b500>\u001b[0m in \u001b[0;36m<module>\u001b[0;34m()\u001b[0m\n\u001b[1;32m      1\u001b[0m \u001b[0mada\u001b[0m \u001b[0;34m=\u001b[0m \u001b[0mAdalineGD\u001b[0m\u001b[0;34m(\u001b[0m\u001b[0mn_iter\u001b[0m\u001b[0;34m=\u001b[0m\u001b[0;36m15\u001b[0m\u001b[0;34m,\u001b[0m \u001b[0meta\u001b[0m\u001b[0;34m=\u001b[0m\u001b[0;36m0.01\u001b[0m\u001b[0;34m)\u001b[0m\u001b[0;34m\u001b[0m\u001b[0m\n\u001b[1;32m      2\u001b[0m \u001b[0mada\u001b[0m\u001b[0;34m.\u001b[0m\u001b[0mfit\u001b[0m\u001b[0;34m(\u001b[0m\u001b[0mX_std\u001b[0m\u001b[0;34m,\u001b[0m \u001b[0my\u001b[0m\u001b[0;34m)\u001b[0m\u001b[0;34m\u001b[0m\u001b[0m\n\u001b[0;32m----> 3\u001b[0;31m \u001b[0mplot_decision_regions\u001b[0m\u001b[0;34m(\u001b[0m\u001b[0mX_std\u001b[0m\u001b[0;34m,\u001b[0m \u001b[0my\u001b[0m\u001b[0;34m,\u001b[0m \u001b[0mclassifier\u001b[0m\u001b[0;34m=\u001b[0m\u001b[0mada\u001b[0m\u001b[0;34m)\u001b[0m\u001b[0;34m\u001b[0m\u001b[0m\n\u001b[0m\u001b[1;32m      4\u001b[0m \u001b[0mplt\u001b[0m\u001b[0;34m.\u001b[0m\u001b[0mtitle\u001b[0m\u001b[0;34m(\u001b[0m\u001b[0;34m'Adaline - Gradient Descent'\u001b[0m\u001b[0;34m)\u001b[0m\u001b[0;34m\u001b[0m\u001b[0m\n\u001b[1;32m      5\u001b[0m \u001b[0mplt\u001b[0m\u001b[0;34m.\u001b[0m\u001b[0mxlabel\u001b[0m\u001b[0;34m(\u001b[0m\u001b[0;34m'sepal length [standardized]'\u001b[0m\u001b[0;34m)\u001b[0m\u001b[0;34m\u001b[0m\u001b[0m\n",
      "\u001b[0;32m<ipython-input-51-01052072cc7f>\u001b[0m in \u001b[0;36mplot_decision_regions\u001b[0;34m(X, y, classifier, resolution)\u001b[0m\n\u001b[1;32m      7\u001b[0m     \u001b[0mx1_min\u001b[0m\u001b[0;34m,\u001b[0m\u001b[0mx1_max\u001b[0m \u001b[0;34m=\u001b[0m \u001b[0mX\u001b[0m\u001b[0;34m[\u001b[0m\u001b[0;34m:\u001b[0m\u001b[0;34m,\u001b[0m\u001b[0;36m0\u001b[0m\u001b[0;34m]\u001b[0m\u001b[0;34m.\u001b[0m\u001b[0mmin\u001b[0m\u001b[0;34m(\u001b[0m\u001b[0;34m)\u001b[0m\u001b[0;34m-\u001b[0m\u001b[0;36m1\u001b[0m\u001b[0;34m,\u001b[0m\u001b[0mX\u001b[0m\u001b[0;34m[\u001b[0m\u001b[0;34m:\u001b[0m\u001b[0;34m,\u001b[0m\u001b[0;36m0\u001b[0m\u001b[0;34m]\u001b[0m\u001b[0;34m.\u001b[0m\u001b[0mmax\u001b[0m\u001b[0;34m(\u001b[0m\u001b[0;34m)\u001b[0m\u001b[0;34m+\u001b[0m\u001b[0;36m1\u001b[0m\u001b[0;34m\u001b[0m\u001b[0m\n\u001b[1;32m      8\u001b[0m     \u001b[0mx2_min\u001b[0m\u001b[0;34m,\u001b[0m\u001b[0mx2_max\u001b[0m \u001b[0;34m=\u001b[0m \u001b[0mX\u001b[0m\u001b[0;34m[\u001b[0m\u001b[0;34m:\u001b[0m\u001b[0;34m,\u001b[0m\u001b[0;36m1\u001b[0m\u001b[0;34m]\u001b[0m\u001b[0;34m.\u001b[0m\u001b[0mmin\u001b[0m\u001b[0;34m(\u001b[0m\u001b[0;34m)\u001b[0m\u001b[0;34m-\u001b[0m\u001b[0;36m1\u001b[0m\u001b[0;34m,\u001b[0m\u001b[0mX\u001b[0m\u001b[0;34m[\u001b[0m\u001b[0;34m:\u001b[0m\u001b[0;34m,\u001b[0m\u001b[0;36m1\u001b[0m\u001b[0;34m]\u001b[0m\u001b[0;34m.\u001b[0m\u001b[0mmax\u001b[0m\u001b[0;34m(\u001b[0m\u001b[0;34m)\u001b[0m\u001b[0;34m+\u001b[0m\u001b[0;36m1\u001b[0m\u001b[0;34m\u001b[0m\u001b[0m\n\u001b[0;32m----> 9\u001b[0;31m     xx1, xx2 = np.meshgrid(np.arrange(x1_min, x1_max, resolution),\n\u001b[0m\u001b[1;32m     10\u001b[0m                            np.arrange(x2_min, x2_max, resolution))\n\u001b[1;32m     11\u001b[0m     \u001b[0mZ\u001b[0m \u001b[0;34m=\u001b[0m \u001b[0mclassifier\u001b[0m\u001b[0;34m.\u001b[0m\u001b[0mpredict\u001b[0m\u001b[0;34m(\u001b[0m\u001b[0mnp\u001b[0m\u001b[0;34m.\u001b[0m\u001b[0marray\u001b[0m\u001b[0;34m(\u001b[0m\u001b[0;34m[\u001b[0m\u001b[0mxx1\u001b[0m\u001b[0;34m.\u001b[0m\u001b[0mravel\u001b[0m\u001b[0;34m(\u001b[0m\u001b[0;34m)\u001b[0m\u001b[0;34m,\u001b[0m \u001b[0mxx2\u001b[0m\u001b[0;34m.\u001b[0m\u001b[0mravel\u001b[0m\u001b[0;34m(\u001b[0m\u001b[0;34m)\u001b[0m\u001b[0;34m]\u001b[0m\u001b[0;34m)\u001b[0m\u001b[0;34m.\u001b[0m\u001b[0mT\u001b[0m\u001b[0;34m)\u001b[0m\u001b[0;34m\u001b[0m\u001b[0m\n",
      "\u001b[0;31mAttributeError\u001b[0m: module 'numpy' has no attribute 'arrange'"
     ]
    }
   ],
   "source": [
    "ada = AdalineGD(n_iter=15, eta=0.01)\n",
    "ada.fit(X_std, y)\n",
    "plot_decision_regions(X_std, y, classifier=ada)\n",
    "plt.title('Adaline - Gradient Descent')\n",
    "plt.xlabel('sepal length [standardized]')\n",
    "plt.ylabel('petal length [standardized]')\n",
    "plt.legend(loc='upper left')\n",
    "plt.show()\n",
    "plt.plot(range(1, len(ada.cost_) + 1), ada.cost_, marker='o')\n",
    "plt.xlabel('Epochs')\n",
    "plt.ylabel('Sum-squared-error')\n",
    "plt.show()"
   ]
  },
  {
   "cell_type": "code",
   "execution_count": 51,
   "metadata": {
    "collapsed": true
   },
   "outputs": [],
   "source": [
    "from matplotlib.colors import ListedColormap\n",
    "\n",
    "def plot_decision_regions(X, y, classifier, resolution=0.02):\n",
    "    makers = ('s','x','o','^','v')\n",
    "    colors = ('red','blue','lightgreen','gray','cyan')\n",
    "    cmap = ListedColormap(colors[:len(np.unique(y))])\n",
    "    x1_min,x1_max = X[:,0].min()-1,X[:,0].max()+1\n",
    "    x2_min,x2_max = X[:,1].min()-1,X[:,1].max()+1\n",
    "    xx1, xx2 = np.meshgrid(np.arange(x1_min, x1_max, resolution),\n",
    "                           np.arange(x2_min, x2_max, resolution))\n",
    "    Z = classifier.predict(np.array([xx1.ravel(), xx2.ravel()]).T)\n",
    "    Z = Z.reshape(xx1.shape)\n",
    "    plt.contourf(xx1, xx2, Z, alpha=0.4, cmap=cmap)\n",
    "    plt.xlim(xx1.min(), xx1.max())\n",
    "    plt.ylim(xx2.min(), xx2.max())\n",
    "    \n",
    "    for idx, cl in enumerate(np.unique(y)):\n",
    "        plt.scatter(x=X[y == cl, 0], y=X[y == cl, 1], alpha=0.8, c=cmap(idx), marker=markers[idx], label=cl)"
>>>>>>> sugawara
   ]
  },
  {
   "cell_type": "code",
   "execution_count": null,
   "metadata": {
    "collapsed": true
   },
   "outputs": [],
   "source": []
  }
 ],
 "metadata": {
  "kernelspec": {
   "display_name": "Python 3",
   "language": "python",
   "name": "python3"
  },
  "language_info": {
   "codemirror_mode": {
    "name": "ipython",
    "version": 3
   },
   "file_extension": ".py",
   "mimetype": "text/x-python",
   "name": "python",
   "nbconvert_exporter": "python",
   "pygments_lexer": "ipython3",
   "version": "3.5.2"
  }
 },
 "nbformat": 4,
 "nbformat_minor": 2
}
